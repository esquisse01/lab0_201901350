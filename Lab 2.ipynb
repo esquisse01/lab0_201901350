{
  "nbformat": 4,
  "nbformat_minor": 5,
  "metadata": {
    "kernelspec": {
      "display_name": "Python 3",
      "language": "python",
      "name": "python3"
    },
    "language_info": {
      "codemirror_mode": {
        "name": "ipython",
        "version": 3
      },
      "file_extension": ".py",
      "mimetype": "text/x-python",
      "name": "python",
      "nbconvert_exporter": "python",
      "pygments_lexer": "ipython3",
      "version": "3.7.11"
    },
    "colab": {
      "name": "Lab 2.ipynb",
      "provenance": []
    }
  },
  "cells": [
    {
      "cell_type": "markdown",
      "metadata": {
        "deletable": false,
        "editable": false,
        "nbgrader": {
          "cell_type": "markdown",
          "checksum": "a5395a11f967f65e40663e1029fba2fc",
          "grade": false,
          "grade_id": "Introduction",
          "locked": true,
          "schema_version": 3,
          "solution": false,
          "task": false
        },
        "id": "7384ff73"
      },
      "source": [
        "# Laboratory #2\n",
        "\n",
        "* This is an introductory exercise for you to learn about Python basics.\n",
        "\n",
        "* Each question has a value of 1 point\n",
        "\n",
        "* For this laboratory each exercise has its answer, please copy the answer after the comment `# YOUR CODE HERE` in their respective question\n"
      ],
      "id": "7384ff73"
    },
    {
      "cell_type": "markdown",
      "metadata": {
        "id": "e37aff44"
      },
      "source": [
        "* Name: 김재훈\n",
        "* Student ID: 201901350\n",
        "\n",
        "Answer the questions or complete the tasks below, use the specific method described if applicable."
      ],
      "id": "e37aff44"
    },
    {
      "cell_type": "markdown",
      "metadata": {
        "deletable": false,
        "editable": false,
        "nbgrader": {
          "cell_type": "markdown",
          "checksum": "3c19e3403975e7524f14b10284bb72f5",
          "grade": false,
          "grade_id": "q1_desc",
          "locked": true,
          "schema_version": 3,
          "solution": false,
          "task": false
        },
        "id": "973b3138"
      },
      "source": [
        "**Question 1:** \n",
        "* Create the variables `a = 9` and `b = 6`.  \n",
        "* Create a variable `c` = (`a` to the power of `b`). \n",
        "* What is the value of `c`? (print the result)"
      ],
      "id": "973b3138"
    },
    {
      "cell_type": "code",
      "metadata": {
        "deletable": false,
        "nbgrader": {
          "cell_type": "code",
          "checksum": "c55f2f8267fe52ea577942fc14c4b497",
          "grade": false,
          "grade_id": "q1_ans",
          "locked": false,
          "schema_version": 3,
          "solution": true,
          "task": false
        },
        "id": "dbd24305"
      },
      "source": [
        "# YOUR CODE HERE\n",
        "a = 9\n",
        "b = 6\n"
      ],
      "id": "dbd24305",
      "execution_count": null,
      "outputs": []
    },
    {
      "cell_type": "code",
      "metadata": {
        "deletable": false,
        "editable": false,
        "nbgrader": {
          "cell_type": "code",
          "checksum": "b39eeec384d965e33d5d22195ddf35e9",
          "grade": true,
          "grade_id": "q1_test_1",
          "locked": true,
          "points": 5,
          "schema_version": 3,
          "solution": false,
          "task": false
        },
        "id": "1c3c0c49"
      },
      "source": [
        "c = a ** b"
      ],
      "id": "1c3c0c49",
      "execution_count": null,
      "outputs": []
    },
    {
      "cell_type": "code",
      "metadata": {
        "deletable": false,
        "editable": false,
        "nbgrader": {
          "cell_type": "code",
          "checksum": "9833554bd8ff7b46f8400f94e31fc325",
          "grade": true,
          "grade_id": "q1_test_2",
          "locked": true,
          "points": 5,
          "schema_version": 3,
          "solution": false,
          "task": false
        },
        "id": "6723f7ce",
        "colab": {
          "base_uri": "https://localhost:8080/"
        },
        "outputId": "5153b9bb-37c1-4046-da08-53a25ac99be3"
      },
      "source": [
        "c"
      ],
      "id": "6723f7ce",
      "execution_count": null,
      "outputs": [
        {
          "output_type": "execute_result",
          "data": {
            "text/plain": [
              "531441"
            ]
          },
          "metadata": {},
          "execution_count": 3
        }
      ]
    },
    {
      "cell_type": "markdown",
      "metadata": {
        "deletable": false,
        "editable": false,
        "nbgrader": {
          "cell_type": "markdown",
          "checksum": "1307f1e9e22ee6ae5f26b9bcc981236f",
          "grade": false,
          "grade_id": "q2_desc",
          "locked": true,
          "schema_version": 3,
          "solution": false,
          "task": false
        },
        "id": "45f499b3"
      },
      "source": [
        "**Question 2:** Create and split this following string variable:\n",
        "\n",
        "`st = \"Programming Languages 101\"`\n",
        "\n",
        "into a list. Save the result in a new variable `s`."
      ],
      "id": "45f499b3"
    },
    {
      "cell_type": "code",
      "metadata": {
        "deletable": false,
        "nbgrader": {
          "cell_type": "code",
          "checksum": "e195a99c985e2cdae54fc6144d217d22",
          "grade": false,
          "grade_id": "q2_ans",
          "locked": false,
          "schema_version": 3,
          "solution": true,
          "task": false
        },
        "id": "732eab2d"
      },
      "source": [
        "# YOUR CODE HERE\n",
        "st = \"Programming Languages 101\""
      ],
      "id": "732eab2d",
      "execution_count": null,
      "outputs": []
    },
    {
      "cell_type": "code",
      "metadata": {
        "deletable": false,
        "editable": false,
        "nbgrader": {
          "cell_type": "code",
          "checksum": "3ecb4e6d5bc840216eaef4421446c45b",
          "grade": true,
          "grade_id": "q2_test",
          "locked": true,
          "points": 10,
          "schema_version": 3,
          "solution": false,
          "task": false
        },
        "id": "8b75cf1c",
        "colab": {
          "base_uri": "https://localhost:8080/"
        },
        "outputId": "27f50266-2a47-408f-fb27-ae812be085fe"
      },
      "source": [
        "st.split()"
      ],
      "id": "8b75cf1c",
      "execution_count": null,
      "outputs": [
        {
          "output_type": "execute_result",
          "data": {
            "text/plain": [
              "['Programming', 'Languages', '101']"
            ]
          },
          "metadata": {},
          "execution_count": 8
        }
      ]
    },
    {
      "cell_type": "code",
      "metadata": {
        "id": "Qo9PkQDI8FH_"
      },
      "source": [
        "s = st.split()"
      ],
      "id": "Qo9PkQDI8FH_",
      "execution_count": null,
      "outputs": []
    },
    {
      "cell_type": "markdown",
      "metadata": {
        "deletable": false,
        "editable": false,
        "nbgrader": {
          "cell_type": "markdown",
          "checksum": "4eebec668d6143ac974e0d295ec9ff75",
          "grade": false,
          "grade_id": "q3_desc",
          "locked": true,
          "schema_version": 3,
          "solution": false,
          "task": false
        },
        "id": "63c84c8c"
      },
      "source": [
        "**Question 3:**  Create and use the following variables:\n",
        "\n",
        "`space_station = \"Death Star I\"\n",
        "diameter = 120`\n",
        "\n",
        "Use .format() to print the following string:\n",
        "\n",
        "The diameter of Death Star I is 120 kilometers."
      ],
      "id": "63c84c8c"
    },
    {
      "cell_type": "code",
      "metadata": {
        "deletable": false,
        "nbgrader": {
          "cell_type": "code",
          "checksum": "2fc9935a068ab82211df6a0f58eebd57",
          "grade": false,
          "grade_id": "q3_ans",
          "locked": false,
          "schema_version": 3,
          "solution": true,
          "task": false
        },
        "id": "5db9e2c2"
      },
      "source": [
        "# YOUR CODE HERE\n",
        "space_station = \"Death Star I\"\n",
        "diameter = 120"
      ],
      "id": "5db9e2c2",
      "execution_count": null,
      "outputs": []
    },
    {
      "cell_type": "code",
      "metadata": {
        "deletable": false,
        "editable": false,
        "nbgrader": {
          "cell_type": "code",
          "checksum": "080ac43d0e7dbb76df3a06ff1943aa2f",
          "grade": true,
          "grade_id": "q3_test",
          "locked": true,
          "points": 10,
          "schema_version": 3,
          "solution": false,
          "task": false
        },
        "id": "7ffeb397",
        "colab": {
          "base_uri": "https://localhost:8080/"
        },
        "outputId": "433613db-0708-4f90-beda-25d2aba304d0"
      },
      "source": [
        "print('The diameter of {one} is {two} kilometers.' . format( one =space_station , two = diameter))"
      ],
      "id": "7ffeb397",
      "execution_count": null,
      "outputs": [
        {
          "output_type": "stream",
          "name": "stdout",
          "text": [
            "The diameter of Death Star I is 120 kilometers.\n"
          ]
        }
      ]
    },
    {
      "cell_type": "markdown",
      "metadata": {
        "deletable": false,
        "editable": false,
        "nbgrader": {
          "cell_type": "markdown",
          "checksum": "808558c48d0838bb24b56fc869668cba",
          "grade": false,
          "grade_id": "q4_desc",
          "locked": true,
          "schema_version": 3,
          "solution": false,
          "task": false
        },
        "id": "751dbfda"
      },
      "source": [
        "**Question 4:**\n",
        "\n",
        "* Use the len method to print the length of the string. \n",
        "\n",
        "* `x = \"Welcome to Programming Language Course\"`\n",
        "\n",
        "* Save the result in a new variable `h`.\n"
      ],
      "id": "751dbfda"
    },
    {
      "cell_type": "code",
      "metadata": {
        "deletable": false,
        "nbgrader": {
          "cell_type": "code",
          "checksum": "4b171a81b89b04dff7621a8aa44c9237",
          "grade": false,
          "grade_id": "q4_ans",
          "locked": false,
          "schema_version": 3,
          "solution": true,
          "task": false
        },
        "id": "d99653b3"
      },
      "source": [
        "# YOUR CODE HERE\n",
        "x = \"Welcome to Programming Langugae Course\""
      ],
      "id": "d99653b3",
      "execution_count": null,
      "outputs": []
    },
    {
      "cell_type": "code",
      "metadata": {
        "deletable": false,
        "editable": false,
        "nbgrader": {
          "cell_type": "code",
          "checksum": "e2d2e19b60274bbf36c17c544cebd85f",
          "grade": true,
          "grade_id": "q4_test",
          "locked": true,
          "points": 10,
          "schema_version": 3,
          "solution": false,
          "task": false
        },
        "id": "57c152e5",
        "colab": {
          "base_uri": "https://localhost:8080/"
        },
        "outputId": "ad1d7f89-b936-495e-d7de-be7aa3c2b741"
      },
      "source": [
        "len(x)"
      ],
      "id": "57c152e5",
      "execution_count": null,
      "outputs": [
        {
          "output_type": "execute_result",
          "data": {
            "text/plain": [
              "38"
            ]
          },
          "metadata": {},
          "execution_count": 23
        }
      ]
    },
    {
      "cell_type": "code",
      "metadata": {
        "id": "ZI4lC89P-muT"
      },
      "source": [
        "h = len(x)"
      ],
      "id": "ZI4lC89P-muT",
      "execution_count": null,
      "outputs": []
    },
    {
      "cell_type": "markdown",
      "metadata": {
        "deletable": false,
        "editable": false,
        "nbgrader": {
          "cell_type": "markdown",
          "checksum": "c70a6ae47a5f4a0fd0160544580be460",
          "grade": false,
          "grade_id": "q5_desc",
          "locked": true,
          "schema_version": 3,
          "solution": false,
          "task": false
        },
        "id": "93e7349a"
      },
      "source": [
        "**Question 5:**\n",
        "\n",
        "* Get the first character of the string txt\n",
        "* `txt = \"Welcome to the 2nd Laboratory\"`\n",
        "\n",
        "* Save the result in a new variable `k`.\n"
      ],
      "id": "93e7349a"
    },
    {
      "cell_type": "code",
      "metadata": {
        "deletable": false,
        "nbgrader": {
          "cell_type": "code",
          "checksum": "0250afeaaa8f96dde3ef816354dce02d",
          "grade": false,
          "grade_id": "q5_ans",
          "locked": false,
          "schema_version": 3,
          "solution": true,
          "task": false
        },
        "id": "0543d039"
      },
      "source": [
        "# YOUR CODE HERE\n",
        "txt = \"Welcome to the 2nd Laboratory\""
      ],
      "id": "0543d039",
      "execution_count": null,
      "outputs": []
    },
    {
      "cell_type": "code",
      "metadata": {
        "deletable": false,
        "editable": false,
        "nbgrader": {
          "cell_type": "code",
          "checksum": "dec9d46ff1416d7514b40b6bc869ef27",
          "grade": true,
          "grade_id": "q5_test",
          "locked": true,
          "points": 10,
          "schema_version": 3,
          "solution": false,
          "task": false
        },
        "id": "a60e26ab",
        "colab": {
          "base_uri": "https://localhost:8080/",
          "height": 36
        },
        "outputId": "26beb324-3e6d-42a2-d4a2-c21da592faaf"
      },
      "source": [
        "txt[0]"
      ],
      "id": "a60e26ab",
      "execution_count": null,
      "outputs": [
        {
          "output_type": "execute_result",
          "data": {
            "application/vnd.google.colaboratory.intrinsic+json": {
              "type": "string"
            },
            "text/plain": [
              "'W'"
            ]
          },
          "metadata": {},
          "execution_count": 28
        }
      ]
    },
    {
      "cell_type": "code",
      "metadata": {
        "id": "2gjsI7hn_MKs"
      },
      "source": [
        "k = txt[0]"
      ],
      "id": "2gjsI7hn_MKs",
      "execution_count": null,
      "outputs": []
    },
    {
      "cell_type": "markdown",
      "metadata": {
        "deletable": false,
        "editable": false,
        "nbgrader": {
          "cell_type": "markdown",
          "checksum": "89a76f3b8724b59f36d4979248bb4e2c",
          "grade": false,
          "grade_id": "q6_desc",
          "locked": true,
          "schema_version": 3,
          "solution": false,
          "task": false
        },
        "id": "892e8f0d"
      },
      "source": [
        "**Question 6:**\n",
        "\n",
        "* Get the characters from index 2 to index 4 of the string txt.\n",
        "* `txt = \"Welcome to the 2nd Laboratory\"`\n",
        "* Save the result in a new variable `v`.\n"
      ],
      "id": "892e8f0d"
    },
    {
      "cell_type": "code",
      "metadata": {
        "deletable": false,
        "nbgrader": {
          "cell_type": "code",
          "checksum": "3b18f284f67a6c0394b5c5d1a1c9ae47",
          "grade": false,
          "grade_id": "q6_ans",
          "locked": false,
          "schema_version": 3,
          "solution": true,
          "task": false
        },
        "id": "c7d064c5",
        "colab": {
          "base_uri": "https://localhost:8080/",
          "height": 36
        },
        "outputId": "907f83c9-ba85-4b9e-d50c-7a781a71d168"
      },
      "source": [
        "# YOUR CODE HERE\n",
        "txt[2:4]"
      ],
      "id": "c7d064c5",
      "execution_count": null,
      "outputs": [
        {
          "output_type": "execute_result",
          "data": {
            "application/vnd.google.colaboratory.intrinsic+json": {
              "type": "string"
            },
            "text/plain": [
              "'lc'"
            ]
          },
          "metadata": {},
          "execution_count": 31
        }
      ]
    },
    {
      "cell_type": "code",
      "metadata": {
        "deletable": false,
        "editable": false,
        "nbgrader": {
          "cell_type": "code",
          "checksum": "64d3f9287f9f4c6d7fd24b4257d75c5a",
          "grade": true,
          "grade_id": "q6_test",
          "locked": true,
          "points": 10,
          "schema_version": 3,
          "solution": false,
          "task": false
        },
        "id": "ad987b2a"
      },
      "source": [
        "y = txt[2:4]"
      ],
      "id": "ad987b2a",
      "execution_count": null,
      "outputs": []
    },
    {
      "cell_type": "markdown",
      "metadata": {
        "deletable": false,
        "editable": false,
        "nbgrader": {
          "cell_type": "markdown",
          "checksum": "0b43aeee74759e72110f7136d973f7b2",
          "grade": false,
          "grade_id": "q7_desc",
          "locked": true,
          "schema_version": 3,
          "solution": false,
          "task": false
        },
        "id": "a93b74eb"
      },
      "source": [
        "**Question 7:**\n",
        "\n",
        "* Convert the value of txt to upper case.\n",
        "* `txt = \"Welcome to the 2nd Laboratory\"`\n",
        "* Save the result in a new variable `b`."
      ],
      "id": "a93b74eb"
    },
    {
      "cell_type": "code",
      "metadata": {
        "deletable": false,
        "nbgrader": {
          "cell_type": "code",
          "checksum": "0ef3c39b6a1972740052033903802d16",
          "grade": false,
          "grade_id": "q7_ans",
          "locked": false,
          "schema_version": 3,
          "solution": true,
          "task": false
        },
        "id": "8267e80b",
        "colab": {
          "base_uri": "https://localhost:8080/",
          "height": 36
        },
        "outputId": "b8f2fc6e-27cc-4c10-d464-c79f23999cf4"
      },
      "source": [
        "# YOUR CODE HERE\n",
        "txt.upper()"
      ],
      "id": "8267e80b",
      "execution_count": null,
      "outputs": [
        {
          "output_type": "execute_result",
          "data": {
            "application/vnd.google.colaboratory.intrinsic+json": {
              "type": "string"
            },
            "text/plain": [
              "'WELCOME TO THE 2ND LABORATORY'"
            ]
          },
          "metadata": {},
          "execution_count": 34
        }
      ]
    },
    {
      "cell_type": "code",
      "metadata": {
        "deletable": false,
        "editable": false,
        "nbgrader": {
          "cell_type": "code",
          "checksum": "b93013c46d13650ce4a3a59b8c923f31",
          "grade": true,
          "grade_id": "q7_test",
          "locked": true,
          "points": 10,
          "schema_version": 3,
          "solution": false,
          "task": false
        },
        "id": "cffd9c6a"
      },
      "source": [
        "b = txt.upper()"
      ],
      "id": "cffd9c6a",
      "execution_count": null,
      "outputs": []
    },
    {
      "cell_type": "markdown",
      "metadata": {
        "deletable": false,
        "editable": false,
        "nbgrader": {
          "cell_type": "markdown",
          "checksum": "df658ca50600e1e99c1706dffa447437",
          "grade": false,
          "grade_id": "q8_desc",
          "locked": true,
          "schema_version": 3,
          "solution": false,
          "task": false
        },
        "id": "d73a9944"
      },
      "source": [
        "**Question 8:**\n",
        "* Convert the value of txt to lower case.\n",
        "* `txt = \"Welcome to the 2nd Laboratory\"`\n",
        "* Save the result in a new variable `lw`."
      ],
      "id": "d73a9944"
    },
    {
      "cell_type": "code",
      "metadata": {
        "deletable": false,
        "nbgrader": {
          "cell_type": "code",
          "checksum": "28ca95c55895bf0fc7361b179f0712d6",
          "grade": false,
          "grade_id": "q8_ans",
          "locked": false,
          "schema_version": 3,
          "solution": true,
          "task": false
        },
        "id": "b3abc173",
        "colab": {
          "base_uri": "https://localhost:8080/",
          "height": 36
        },
        "outputId": "e8522d62-a3f4-4832-87e6-6d31ff162776"
      },
      "source": [
        "# YOUR CODE HERE\n",
        "txt.lower()"
      ],
      "id": "b3abc173",
      "execution_count": null,
      "outputs": [
        {
          "output_type": "execute_result",
          "data": {
            "application/vnd.google.colaboratory.intrinsic+json": {
              "type": "string"
            },
            "text/plain": [
              "'welcome to the 2nd laboratory'"
            ]
          },
          "metadata": {},
          "execution_count": 37
        }
      ]
    },
    {
      "cell_type": "code",
      "metadata": {
        "deletable": false,
        "editable": false,
        "nbgrader": {
          "cell_type": "code",
          "checksum": "5d1b01e95281183362e151e483f9ecc0",
          "grade": true,
          "grade_id": "q8_test",
          "locked": true,
          "points": 10,
          "schema_version": 3,
          "solution": false,
          "task": false
        },
        "id": "c68fa094"
      },
      "source": [
        "lw = txt.lower()"
      ],
      "id": "c68fa094",
      "execution_count": null,
      "outputs": []
    },
    {
      "cell_type": "markdown",
      "metadata": {
        "deletable": false,
        "editable": false,
        "nbgrader": {
          "cell_type": "markdown",
          "checksum": "596371dc2cec1c229322cd8f56cfea31",
          "grade": false,
          "grade_id": "q9_desc",
          "locked": true,
          "schema_version": 3,
          "solution": false,
          "task": false
        },
        "id": "b8aa8843"
      },
      "source": [
        "**Question 9:**\n",
        "* Replace the character o with an @ for txt.\n",
        "* `txt = \"Welcome to the 2nd Laboratory\"`\n",
        "* Save the result in a new variable `rp`.\n"
      ],
      "id": "b8aa8843"
    },
    {
      "cell_type": "code",
      "metadata": {
        "deletable": false,
        "nbgrader": {
          "cell_type": "code",
          "checksum": "43e056c0ff520c958b59f260c36e9251",
          "grade": false,
          "grade_id": "q9_ans",
          "locked": false,
          "schema_version": 3,
          "solution": true,
          "task": false
        },
        "id": "9c1ecbab",
        "colab": {
          "base_uri": "https://localhost:8080/",
          "height": 36
        },
        "outputId": "5aae5df7-7391-4692-e228-c0cf1b3587d0"
      },
      "source": [
        "# YOUR CODE HERE\n",
        "txt.replace('o', '@')"
      ],
      "id": "9c1ecbab",
      "execution_count": null,
      "outputs": [
        {
          "output_type": "execute_result",
          "data": {
            "application/vnd.google.colaboratory.intrinsic+json": {
              "type": "string"
            },
            "text/plain": [
              "'Welc@me t@ the 2nd Lab@rat@ry'"
            ]
          },
          "metadata": {},
          "execution_count": 39
        }
      ]
    },
    {
      "cell_type": "code",
      "metadata": {
        "deletable": false,
        "editable": false,
        "nbgrader": {
          "cell_type": "code",
          "checksum": "52565a17376cad88f1e730095873f20b",
          "grade": true,
          "grade_id": "q9_test",
          "locked": true,
          "points": 10,
          "schema_version": 3,
          "solution": false,
          "task": false
        },
        "id": "210ed5b0"
      },
      "source": [
        "rp = txt.replace('o' , '@')"
      ],
      "id": "210ed5b0",
      "execution_count": null,
      "outputs": []
    },
    {
      "cell_type": "markdown",
      "metadata": {
        "deletable": false,
        "editable": false,
        "nbgrader": {
          "cell_type": "markdown",
          "checksum": "1e4d3143bef1cf7c0d8445cc7e35c64d",
          "grade": false,
          "grade_id": "q10_desc",
          "locked": true,
          "schema_version": 3,
          "solution": false,
          "task": false
        },
        "id": "76b90a9a"
      },
      "source": [
        "**Question 10:**\n",
        "* Create a string variable `str_heart` that make the following pattern in one sentence.\n",
        "\n",
        "       HHH    HHH\n",
        "  \n",
        "     HHH   HHH   HHH\n",
        "     \n",
        "    HHH          HHH\n",
        "    \n",
        "     HHH        HHH\n",
        "     \n",
        "      HHH      HHH\n",
        "      \n",
        "        HHH  HHH\n",
        "        \n",
        "          HHH\n"
      ],
      "id": "76b90a9a"
    },
    {
      "cell_type": "code",
      "metadata": {
        "deletable": false,
        "nbgrader": {
          "cell_type": "code",
          "checksum": "343cc165d728fcf08e6a99123930b365",
          "grade": false,
          "grade_id": "q10_ans",
          "locked": false,
          "schema_version": 3,
          "solution": true,
          "task": false
        },
        "id": "c4ca0f6f"
      },
      "source": [
        "# YOUR CODE HERE\n",
        "str_heart = \"\"\"HHH    HHH\n",
        "\n",
        "     HHH   HHH   HHH\n",
        "\n",
        "    HHH          HHH\n",
        "\n",
        "     HHH        HHH\n",
        "\n",
        "      HHH      HHH\n",
        "\n",
        "        HHH  HHH\n",
        "\n",
        "          HHH\"\"\""
      ],
      "id": "c4ca0f6f",
      "execution_count": null,
      "outputs": []
    },
    {
      "cell_type": "code",
      "metadata": {
        "deletable": false,
        "editable": false,
        "nbgrader": {
          "cell_type": "code",
          "checksum": "fe7969cd8f3fc628796c822224d7a49d",
          "grade": true,
          "grade_id": "q10_test",
          "locked": true,
          "points": 10,
          "schema_version": 3,
          "solution": false,
          "task": false
        },
        "id": "ebeeb186"
      },
      "source": [
        ""
      ],
      "id": "ebeeb186",
      "execution_count": null,
      "outputs": []
    },
    {
      "cell_type": "markdown",
      "metadata": {
        "deletable": false,
        "editable": false,
        "nbgrader": {
          "cell_type": "markdown",
          "checksum": "87fda00062f5774677289b77e6101aed",
          "grade": false,
          "grade_id": "Final",
          "locked": true,
          "schema_version": 3,
          "solution": false,
          "task": false
        },
        "id": "2564d0f2"
      },
      "source": [
        "### Congratulations! \n",
        "\n",
        "### You complete the second laboratory. \n",
        "\n",
        "### Please save your file and save it (push/commit changes) in GitHub in Lab 2. \n",
        "\n",
        "### Happy Chuseok"
      ],
      "id": "2564d0f2"
    },
    {
      "cell_type": "code",
      "metadata": {
        "id": "a3fb66cb"
      },
      "source": [
        ""
      ],
      "id": "a3fb66cb",
      "execution_count": null,
      "outputs": []
    }
  ]
}