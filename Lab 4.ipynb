{
  "nbformat": 4,
  "nbformat_minor": 5,
  "metadata": {
    "kernelspec": {
      "display_name": "Python 3",
      "language": "python",
      "name": "python3"
    },
    "language_info": {
      "codemirror_mode": {
        "name": "ipython",
        "version": 3
      },
      "file_extension": ".py",
      "mimetype": "text/x-python",
      "name": "python",
      "nbconvert_exporter": "python",
      "pygments_lexer": "ipython3",
      "version": "3.7.11"
    },
    "colab": {
      "name": "Lab 4.ipynb",
      "provenance": []
    }
  },
  "cells": [
    {
      "cell_type": "markdown",
      "metadata": {
        "deletable": false,
        "editable": false,
        "nbgrader": {
          "cell_type": "markdown",
          "checksum": "1d52adc034f1aff2112e7e5dc765f941",
          "grade": false,
          "grade_id": "cell-87f50cc21b044ca6",
          "locked": true,
          "schema_version": 3,
          "solution": false,
          "task": false
        },
        "id": "2e5bbf23"
      },
      "source": [
        "# Laboratory #4\n",
        "\n",
        "* This is an introductory exercise for you to learn about Python basics 2.\n",
        "\n",
        "* Each question has a value of 1 point\n",
        "\n",
        "* For this laboratory, please answer in the same code cell after the comment `# YOUR CODE HERE` in their respective question\n",
        "\n",
        "* Do not rename the notebook.\n"
      ],
      "id": "2e5bbf23"
    },
    {
      "cell_type": "markdown",
      "metadata": {
        "deletable": false,
        "editable": false,
        "nbgrader": {
          "cell_type": "markdown",
          "checksum": "083cc8bb328735fdc97bf2709af6aa9a",
          "grade": false,
          "grade_id": "cell-aa6013d65432dadd",
          "locked": true,
          "schema_version": 3,
          "solution": false,
          "task": false
        },
        "id": "8353b2c0"
      },
      "source": [
        "* Name: 김재훈\n",
        "* Student ID: 201901350 / esquisse01\n",
        "Answer the questions or complete the tasks below, use the specific method described if applicable."
      ],
      "id": "8353b2c0"
    },
    {
      "cell_type": "markdown",
      "metadata": {
        "deletable": false,
        "editable": false,
        "nbgrader": {
          "cell_type": "markdown",
          "checksum": "7a47ac09f5dd1c5da8fd9b742ec1fb96",
          "grade": false,
          "grade_id": "cell-9f2130bfe1b4e184",
          "locked": true,
          "schema_version": 3,
          "solution": false,
          "task": false
        },
        "id": "471528b8"
      },
      "source": [
        "**Question 1:** \n",
        "* Print each fruit in a fruit list:\n",
        "* fruits = [\"apple\", \"banana\", \"cherry\"]\n"
      ],
      "id": "471528b8"
    },
    {
      "cell_type": "code",
      "metadata": {
        "deletable": false,
        "nbgrader": {
          "cell_type": "code",
          "checksum": "7f247eebaae2b17c3e69f5c318ed70e5",
          "grade": false,
          "grade_id": "cell-566ed0f75c736f36",
          "locked": false,
          "schema_version": 3,
          "solution": true,
          "task": false
        },
        "id": "aae9418a",
        "outputId": "3cfb80ce-53a8-4358-809e-aa47400689ac",
        "colab": {
          "base_uri": "https://localhost:8080/"
        }
      },
      "source": [
        "# YOUR CODE HERE\n",
        "fruits = [\"apple\", \"banana\", \"cherry\"]\n",
        "for i in fruits:\n",
        "  print(i)"
      ],
      "id": "aae9418a",
      "execution_count": 34,
      "outputs": [
        {
          "output_type": "stream",
          "name": "stdout",
          "text": [
            "apple\n",
            "banana\n",
            "cherry\n"
          ]
        }
      ]
    },
    {
      "cell_type": "code",
      "metadata": {
        "deletable": false,
        "editable": false,
        "nbgrader": {
          "cell_type": "code",
          "checksum": "cfa1b830cef2b680ef8c2ff08908fd90",
          "grade": true,
          "grade_id": "cell-8de3d20fff28f7ad",
          "locked": true,
          "points": 1,
          "schema_version": 3,
          "solution": false,
          "task": false
        },
        "id": "703cc4d5"
      },
      "source": [
        ""
      ],
      "id": "703cc4d5",
      "execution_count": null,
      "outputs": []
    },
    {
      "cell_type": "markdown",
      "metadata": {
        "deletable": false,
        "editable": false,
        "nbgrader": {
          "cell_type": "markdown",
          "checksum": "04a2070c9b5c68ab0ec3a53c8f182c39",
          "grade": false,
          "grade_id": "cell-68a5529f4e51326f",
          "locked": true,
          "schema_version": 3,
          "solution": false,
          "task": false
        },
        "id": "b0a91fb2"
      },
      "source": [
        "**Question 2:** \n",
        "\n",
        "* Create the function `userGet()` that grabs the user id from an email address from a string in the form:\n",
        "\n",
        "* user@domain.com\n",
        "\n",
        "* So for example, passing \"user@domain.com\" would return: user\n",
        "\n",
        "* Create the function with one string as parameter.\n"
      ],
      "id": "b0a91fb2"
    },
    {
      "cell_type": "code",
      "metadata": {
        "deletable": false,
        "nbgrader": {
          "cell_type": "code",
          "checksum": "e4cbb00e30676594b10b6e3f5078f3a8",
          "grade": false,
          "grade_id": "cell-26825bd6b4582077",
          "locked": false,
          "schema_version": 3,
          "solution": true,
          "task": false
        },
        "id": "d24afc59"
      },
      "source": [
        "# YOUR CODE HERE\n",
        "def str_list(string1):\n",
        "   list_var = []\n",
        "   x = string1.index(\"@\")\n",
        "   list_var = string1[:x]\n",
        "\n",
        "   return (list_var)\n"
      ],
      "id": "d24afc59",
      "execution_count": null,
      "outputs": []
    },
    {
      "cell_type": "code",
      "metadata": {
        "id": "DzAYHT39SJX6",
        "colab": {
          "base_uri": "https://localhost:8080/"
        },
        "outputId": "fad95fb1-ac3f-40f1-e593-5caabc4b51c0"
      },
      "source": [
        ""
      ],
      "id": "DzAYHT39SJX6",
      "execution_count": null,
      "outputs": [
        {
          "output_type": "stream",
          "name": "stdout",
          "text": [
            "ho\n"
          ]
        }
      ]
    },
    {
      "cell_type": "markdown",
      "metadata": {
        "deletable": false,
        "editable": false,
        "nbgrader": {
          "cell_type": "markdown",
          "checksum": "9b6d4475607a9413705985e807c59e28",
          "grade": false,
          "grade_id": "cell-c5003f5919074432",
          "locked": true,
          "schema_version": 3,
          "solution": false,
          "task": false
        },
        "id": "19c7ef44"
      },
      "source": [
        "**Question 3:** \n",
        "\n",
        "* Create the function `greetings()` without parameters that displays and returns the `Hello World!`"
      ],
      "id": "19c7ef44"
    },
    {
      "cell_type": "code",
      "metadata": {
        "deletable": false,
        "nbgrader": {
          "cell_type": "code",
          "checksum": "a9d5a26f1738999ecaff83bdb67c91dc",
          "grade": false,
          "grade_id": "cell-95dacacfc40fcdfa",
          "locked": false,
          "schema_version": 3,
          "solution": true,
          "task": false
        },
        "id": "a961b572",
        "outputId": "067e07ad-db5f-4ef2-c2e8-98f916aee3e8",
        "colab": {
          "base_uri": "https://localhost:8080/"
        }
      },
      "source": [
        "# YOUR CODE HERE\n",
        "def greetings():\n",
        "  print(\"Hello World!\")\n",
        "\n",
        "  return greetings\n",
        "print(greetings())"
      ],
      "id": "a961b572",
      "execution_count": 36,
      "outputs": [
        {
          "output_type": "stream",
          "name": "stdout",
          "text": [
            "Hello World!\n",
            "<function greetings at 0x7fa3355c2d40>\n"
          ]
        }
      ]
    },
    {
      "cell_type": "code",
      "metadata": {
        "deletable": false,
        "editable": false,
        "nbgrader": {
          "cell_type": "code",
          "checksum": "e6a679a7702488d16f693c23c67a00e3",
          "grade": true,
          "grade_id": "cell-475349101319c09f",
          "locked": true,
          "points": 1,
          "schema_version": 3,
          "solution": false,
          "task": false
        },
        "id": "e98a54c9",
        "colab": {
          "base_uri": "https://localhost:8080/"
        },
        "outputId": "7f44242e-8db8-474f-e7fb-ddc1505f1c20"
      },
      "source": [
        ""
      ],
      "id": "e98a54c9",
      "execution_count": null,
      "outputs": [
        {
          "output_type": "stream",
          "name": "stdout",
          "text": [
            "Hello World!\n",
            "<function greetings at 0x7fa335628d40>\n"
          ]
        }
      ]
    },
    {
      "cell_type": "markdown",
      "metadata": {
        "deletable": false,
        "editable": false,
        "nbgrader": {
          "cell_type": "markdown",
          "checksum": "0f9065dfd6a216710595b132078a1343",
          "grade": false,
          "grade_id": "cell-b3f9f8948f0dbc88",
          "locked": true,
          "schema_version": 3,
          "solution": false,
          "task": false
        },
        "id": "f58bfd23"
      },
      "source": [
        "**Question 4:** \n",
        "\n",
        "* Create the function `add2num()` that receives two numbers as parameters.\n",
        "\n",
        "* The program have to calculate the sum of the two numbers submitted as parameters. \n",
        "\n",
        "* So for example, passing 1 + 1 would return: 2;  1.5 + 1 = 2.5\n",
        "\n",
        "* If one variable is a string have to return only the numeric parameter \n",
        "\n",
        "* So for example, passing \"23bottles\" + 2 would return: 2; 2 + \"23bottles\" -> 2; \"23bottles\" + \"23bottles\" -> 0  \n"
      ],
      "id": "f58bfd23"
    },
    {
      "cell_type": "code",
      "metadata": {
        "deletable": false,
        "nbgrader": {
          "cell_type": "code",
          "checksum": "816997f1a9bc69d3df25f53830f2ec1c",
          "grade": false,
          "grade_id": "cell-f8eda16267192adc",
          "locked": false,
          "schema_version": 3,
          "solution": true,
          "task": false
        },
        "id": "4cb6d94d"
      },
      "source": [
        "# YOUR CODE HERE"
      ],
      "id": "4cb6d94d",
      "execution_count": 48,
      "outputs": []
    },
    {
      "cell_type": "code",
      "metadata": {
        "deletable": false,
        "editable": false,
        "nbgrader": {
          "cell_type": "code",
          "checksum": "ad3b0947a8ea8723ea2243a47385254b",
          "grade": true,
          "grade_id": "cell-ef33368b83bc4a1c",
          "locked": true,
          "points": 1,
          "schema_version": 3,
          "solution": false,
          "task": false
        },
        "id": "163de575"
      },
      "source": [
        ""
      ],
      "id": "163de575",
      "execution_count": null,
      "outputs": []
    },
    {
      "cell_type": "markdown",
      "metadata": {
        "deletable": false,
        "editable": false,
        "nbgrader": {
          "cell_type": "markdown",
          "checksum": "f86654bd5e0f41d7dc68f78525eff1bc",
          "grade": false,
          "grade_id": "cell-8656d199ae9737f9",
          "locked": true,
          "schema_version": 3,
          "solution": false,
          "task": false
        },
        "id": "280a06c3"
      },
      "source": [
        "**Question 5:** \n",
        "* Create the function `checkTemp()` that receives one number as parameter.\n",
        "* Write a program that has a parameter called temperature and returns \"It is Hot!\" if temperature is over 17 and \"It is cold!\" if is less than 17. \n",
        "\n"
      ],
      "id": "280a06c3"
    },
    {
      "cell_type": "code",
      "metadata": {
        "deletable": false,
        "nbgrader": {
          "cell_type": "code",
          "checksum": "9fa64c567196d81ac8dad671a884712f",
          "grade": false,
          "grade_id": "cell-8f54cfba42babdb8",
          "locked": false,
          "schema_version": 3,
          "solution": true,
          "task": false
        },
        "id": "e8fb4fd5",
        "outputId": "eec797a5-13ee-4366-8a76-b00d9e206679",
        "colab": {
          "base_uri": "https://localhost:8080/"
        }
      },
      "source": [
        "# YOUR CODE HERE\n",
        "def checkTemp(temperature):\n",
        "  if (temperature >=17):\n",
        "    print(\"It is Hot!\")\n",
        "  else:\n",
        "   print(\"It is cold!\")\n",
        "  \n",
        "  \n",
        "\n",
        "x = 15\n",
        "checkTemp(x)"
      ],
      "id": "e8fb4fd5",
      "execution_count": 129,
      "outputs": [
        {
          "output_type": "stream",
          "name": "stdout",
          "text": [
            "It is cold!\n"
          ]
        }
      ]
    },
    {
      "cell_type": "code",
      "metadata": {
        "deletable": false,
        "editable": false,
        "nbgrader": {
          "cell_type": "code",
          "checksum": "c6652d00906174d255cb7537b31d5343",
          "grade": true,
          "grade_id": "cell-2aafb9805d52d6cb",
          "locked": true,
          "points": 1,
          "schema_version": 3,
          "solution": false,
          "task": false
        },
        "id": "f242f830"
      },
      "source": [
        ""
      ],
      "id": "f242f830",
      "execution_count": null,
      "outputs": []
    },
    {
      "cell_type": "markdown",
      "metadata": {
        "deletable": false,
        "editable": false,
        "nbgrader": {
          "cell_type": "markdown",
          "checksum": "435c9a9b2d04530ae51ee747f619f8a5",
          "grade": false,
          "grade_id": "cell-45c96d60ba16c22e",
          "locked": true,
          "schema_version": 3,
          "solution": false,
          "task": false
        },
        "id": "678f0177"
      },
      "source": [
        "**Question 6:** \n",
        "* Create the function `findWeather()` with one parameter. It have to return True if the word 'weather' is contained in the input string. ('weather' or 'Weather')\n"
      ],
      "id": "678f0177"
    },
    {
      "cell_type": "code",
      "metadata": {
        "deletable": false,
        "nbgrader": {
          "cell_type": "code",
          "checksum": "1368393aca287665b974622b1fbfbbed",
          "grade": false,
          "grade_id": "cell-54ee4a478892c2eb",
          "locked": false,
          "schema_version": 3,
          "solution": true,
          "task": false
        },
        "id": "d9e3f43d",
        "outputId": "b0ab3b23-f2cd-4989-bc69-7058c796e4c3",
        "colab": {
          "base_uri": "https://localhost:8080/"
        }
      },
      "source": [
        "# YOUR CODE HERE\n",
        "def findWeather(happierthanever):\n",
        "   a =  \"weather\" in happierthanever or \"Weather\" in happierthanever\n",
        "   \n",
        "   return (a)\n",
        "print(findWeather(\"Hello from the weather\"))"
      ],
      "id": "d9e3f43d",
      "execution_count": 85,
      "outputs": [
        {
          "output_type": "stream",
          "name": "stdout",
          "text": [
            "True\n"
          ]
        }
      ]
    },
    {
      "cell_type": "code",
      "metadata": {
        "deletable": false,
        "editable": false,
        "nbgrader": {
          "cell_type": "code",
          "checksum": "959f42b13c8308b859f33a55cb5c0ef2",
          "grade": true,
          "grade_id": "cell-1d6048d40c22207f",
          "locked": true,
          "points": 1,
          "schema_version": 3,
          "solution": false,
          "task": false
        },
        "id": "b80102d1",
        "outputId": "19ed6712-d4bd-4e3f-b3e3-37b4aceae451",
        "colab": {
          "base_uri": "https://localhost:8080/"
        }
      },
      "source": [
        "\n"
      ],
      "id": "b80102d1",
      "execution_count": 81,
      "outputs": [
        {
          "output_type": "stream",
          "name": "stdout",
          "text": [
            "True\n"
          ]
        }
      ]
    },
    {
      "cell_type": "markdown",
      "metadata": {
        "deletable": false,
        "editable": false,
        "nbgrader": {
          "cell_type": "markdown",
          "checksum": "d75bb8bcba92879ac1e18cba844085a8",
          "grade": false,
          "grade_id": "cell-9fd018728f79dbe4",
          "locked": true,
          "schema_version": 3,
          "solution": false,
          "task": false
        },
        "id": "c73d6d9a"
      },
      "source": [
        "**Question 7:** \n",
        "* Create a function `countWeather()` with one parameter that counts the number of times the word \"weather\" occurs in a string. Ignore edge cases.\n",
        "\n",
        " "
      ],
      "id": "c73d6d9a"
    },
    {
      "cell_type": "code",
      "metadata": {
        "deletable": false,
        "nbgrader": {
          "cell_type": "code",
          "checksum": "e78d070ddb69c0722afd85b1eb148746",
          "grade": false,
          "grade_id": "cell-a9d65c46f0e23567",
          "locked": false,
          "schema_version": 3,
          "solution": true,
          "task": false
        },
        "id": "3661b735",
        "outputId": "b65b3c1d-3c3d-47ee-871d-24c65394f691",
        "colab": {
          "base_uri": "https://localhost:8080/"
        }
      },
      "source": [
        "# YOUR CODE HERE\n",
        "def countWeather(happierthanever):\n",
        "  a = happierthanever.count(\"weather\")\n",
        "\n",
        "  return (a)\n",
        "print(countWeather(\"weather is better than the weather\"))"
      ],
      "id": "3661b735",
      "execution_count": 91,
      "outputs": [
        {
          "output_type": "stream",
          "name": "stdout",
          "text": [
            "2\n"
          ]
        }
      ]
    },
    {
      "cell_type": "code",
      "metadata": {
        "deletable": false,
        "editable": false,
        "nbgrader": {
          "cell_type": "code",
          "checksum": "3ae0aa00001df7a713b2e1709792700f",
          "grade": true,
          "grade_id": "cell-4012f39779e60886",
          "locked": true,
          "points": 1,
          "schema_version": 3,
          "solution": false,
          "task": false
        },
        "id": "689c3917",
        "outputId": "df07f3d4-271b-4eac-f235-9efc215e1aec",
        "colab": {
          "base_uri": "https://localhost:8080/"
        }
      },
      "source": [
        "a = \"hobby\"\n",
        "\n"
      ],
      "id": "689c3917",
      "execution_count": 90,
      "outputs": [
        {
          "output_type": "execute_result",
          "data": {
            "text/plain": [
              "1"
            ]
          },
          "metadata": {},
          "execution_count": 90
        }
      ]
    },
    {
      "cell_type": "markdown",
      "metadata": {
        "deletable": false,
        "editable": false,
        "nbgrader": {
          "cell_type": "markdown",
          "checksum": "e06d0b7e7802105a7f56bafe8158eb13",
          "grade": false,
          "grade_id": "cell-c9c55fc20233b33b",
          "locked": true,
          "schema_version": 3,
          "solution": false,
          "task": false
        },
        "id": "bfc09e37"
      },
      "source": [
        "**Question 8:** \n",
        "* Create the function squareRoot() that receives one number as parameter.\n",
        "* Write a program that finds the square root of a number. Only for positive real numbers."
      ],
      "id": "bfc09e37"
    },
    {
      "cell_type": "code",
      "metadata": {
        "deletable": false,
        "nbgrader": {
          "cell_type": "code",
          "checksum": "cbccbd121c7c192b31300d0599b6f075",
          "grade": false,
          "grade_id": "cell-56c726745bff8aa7",
          "locked": false,
          "schema_version": 3,
          "solution": true,
          "task": false
        },
        "id": "019abf4e",
        "outputId": "2c519cf2-bac4-4a16-b782-42f5c4132e55",
        "colab": {
          "base_uri": "https://localhost:8080/"
        }
      },
      "source": [
        "# YOUR CODE HERE\n",
        "def squareRoot(num = 1):\n",
        "  a = num ** 0.5\n",
        "\n",
        "  return a\n",
        "\n",
        "print(squareRoot(4))"
      ],
      "id": "019abf4e",
      "execution_count": 95,
      "outputs": [
        {
          "output_type": "stream",
          "name": "stdout",
          "text": [
            "2.0\n"
          ]
        }
      ]
    },
    {
      "cell_type": "code",
      "metadata": {
        "deletable": false,
        "editable": false,
        "nbgrader": {
          "cell_type": "code",
          "checksum": "d31711e55488df4227785ebd8cfd07d6",
          "grade": true,
          "grade_id": "cell-6df1c46d27b1c830",
          "locked": true,
          "points": 1,
          "schema_version": 3,
          "solution": false,
          "task": false
        },
        "id": "197d1193",
        "outputId": "0b4eee5a-fb51-4350-f5f4-de312732fb51",
        "colab": {
          "base_uri": "https://localhost:8080/",
          "height": 176
        }
      },
      "source": [
        ""
      ],
      "id": "197d1193",
      "execution_count": 94,
      "outputs": [
        {
          "output_type": "error",
          "ename": "NameError",
          "evalue": "ignored",
          "traceback": [
            "\u001b[0;31m---------------------------------------------------------------------------\u001b[0m",
            "\u001b[0;31mNameError\u001b[0m                                 Traceback (most recent call last)",
            "\u001b[0;32m<ipython-input-94-cd3e3f9a6571>\u001b[0m in \u001b[0;36m<module>\u001b[0;34m()\u001b[0m\n\u001b[0;32m----> 1\u001b[0;31m \u001b[0msquareRoot\u001b[0m\u001b[0;34m(\u001b[0m\u001b[0mnum\u001b[0m\u001b[0;34m(\u001b[0m\u001b[0;36m4\u001b[0m\u001b[0;34m)\u001b[0m\u001b[0;34m)\u001b[0m\u001b[0;34m\u001b[0m\u001b[0;34m\u001b[0m\u001b[0m\n\u001b[0m",
            "\u001b[0;31mNameError\u001b[0m: name 'num' is not defined"
          ]
        }
      ]
    },
    {
      "cell_type": "markdown",
      "metadata": {
        "deletable": false,
        "editable": false,
        "nbgrader": {
          "cell_type": "markdown",
          "checksum": "0c483ff1ebbd08977b1f73868a99ae66",
          "grade": false,
          "grade_id": "cell-a9b0cbc43f31e20b",
          "locked": true,
          "schema_version": 3,
          "solution": false,
          "task": false
        },
        "id": "a0e78ca9"
      },
      "source": [
        "**Question 9:** \n",
        "* Create the function areaTri() that receives three numbers as parameters.\n",
        "* Write a program that finds area of a triangle.\n",
        "\n",
        "Tip:\n",
        "\n",
        "`semi_perimeter = (a+b+c)/2`\n",
        "\n",
        "`area = √(semi_perimeter(semi_perimeter-a)*(semi_perimeter-b)*(semi_perimeter-c))`"
      ],
      "id": "a0e78ca9"
    },
    {
      "cell_type": "code",
      "metadata": {
        "deletable": false,
        "nbgrader": {
          "cell_type": "code",
          "checksum": "16d6d3d5c630e9c488f861c0fb0c56ef",
          "grade": false,
          "grade_id": "cell-b135400fbc28f152",
          "locked": false,
          "schema_version": 3,
          "solution": true,
          "task": false
        },
        "id": "97c5230b",
        "outputId": "dcf7cdb3-b293-4fbf-97a7-f6d7e22b87e2",
        "colab": {
          "base_uri": "https://localhost:8080/",
          "height": 344
        }
      },
      "source": [
        "# YOUR CODE HERE\n",
        "\n",
        "def areaTri(a, b, c):\n",
        "   x = (a+b+c/2)\n",
        "   area = (x(x-a)(x-b)(x-c))\n",
        "   \n",
        "\n",
        "   return area\n",
        "areaTri(1,2,3)"
      ],
      "id": "97c5230b",
      "execution_count": 126,
      "outputs": [
        {
          "output_type": "error",
          "ename": "TypeError",
          "evalue": "ignored",
          "traceback": [
            "\u001b[0;31m---------------------------------------------------------------------------\u001b[0m",
            "\u001b[0;31mTypeError\u001b[0m                                 Traceback (most recent call last)",
            "\u001b[0;32m<ipython-input-126-316bff5fa862>\u001b[0m in \u001b[0;36m<module>\u001b[0;34m()\u001b[0m\n\u001b[1;32m      7\u001b[0m \u001b[0;34m\u001b[0m\u001b[0m\n\u001b[1;32m      8\u001b[0m    \u001b[0;32mreturn\u001b[0m \u001b[0marea\u001b[0m\u001b[0;34m\u001b[0m\u001b[0;34m\u001b[0m\u001b[0m\n\u001b[0;32m----> 9\u001b[0;31m \u001b[0mareaTri\u001b[0m\u001b[0;34m(\u001b[0m\u001b[0;36m1\u001b[0m\u001b[0;34m,\u001b[0m\u001b[0;36m2\u001b[0m\u001b[0;34m,\u001b[0m\u001b[0;36m3\u001b[0m\u001b[0;34m)\u001b[0m\u001b[0;34m\u001b[0m\u001b[0;34m\u001b[0m\u001b[0m\n\u001b[0m",
            "\u001b[0;32m<ipython-input-126-316bff5fa862>\u001b[0m in \u001b[0;36mareaTri\u001b[0;34m(a, b, c)\u001b[0m\n\u001b[1;32m      3\u001b[0m \u001b[0;32mdef\u001b[0m \u001b[0mareaTri\u001b[0m\u001b[0;34m(\u001b[0m\u001b[0ma\u001b[0m\u001b[0;34m,\u001b[0m \u001b[0mb\u001b[0m\u001b[0;34m,\u001b[0m \u001b[0mc\u001b[0m\u001b[0;34m)\u001b[0m\u001b[0;34m:\u001b[0m\u001b[0;34m\u001b[0m\u001b[0;34m\u001b[0m\u001b[0m\n\u001b[1;32m      4\u001b[0m    \u001b[0mx\u001b[0m \u001b[0;34m=\u001b[0m \u001b[0;34m(\u001b[0m\u001b[0ma\u001b[0m\u001b[0;34m+\u001b[0m\u001b[0mb\u001b[0m\u001b[0;34m+\u001b[0m\u001b[0mc\u001b[0m\u001b[0;34m/\u001b[0m\u001b[0;36m2\u001b[0m\u001b[0;34m)\u001b[0m\u001b[0;34m\u001b[0m\u001b[0;34m\u001b[0m\u001b[0m\n\u001b[0;32m----> 5\u001b[0;31m    \u001b[0marea\u001b[0m \u001b[0;34m=\u001b[0m \u001b[0;34m(\u001b[0m\u001b[0mx\u001b[0m\u001b[0;34m(\u001b[0m\u001b[0mx\u001b[0m\u001b[0;34m-\u001b[0m\u001b[0ma\u001b[0m\u001b[0;34m)\u001b[0m\u001b[0;34m(\u001b[0m\u001b[0mx\u001b[0m\u001b[0;34m-\u001b[0m\u001b[0mb\u001b[0m\u001b[0;34m)\u001b[0m\u001b[0;34m(\u001b[0m\u001b[0mx\u001b[0m\u001b[0;34m-\u001b[0m\u001b[0mc\u001b[0m\u001b[0;34m)\u001b[0m\u001b[0;34m)\u001b[0m\u001b[0;34m\u001b[0m\u001b[0;34m\u001b[0m\u001b[0m\n\u001b[0m\u001b[1;32m      6\u001b[0m \u001b[0;34m\u001b[0m\u001b[0m\n\u001b[1;32m      7\u001b[0m \u001b[0;34m\u001b[0m\u001b[0m\n",
            "\u001b[0;31mTypeError\u001b[0m: 'float' object is not callable"
          ]
        }
      ]
    },
    {
      "cell_type": "code",
      "metadata": {
        "deletable": false,
        "editable": false,
        "nbgrader": {
          "cell_type": "code",
          "checksum": "55ea41185d997442fda9943c115c2356",
          "grade": true,
          "grade_id": "cell-9bcbcbbca25fc7c0",
          "locked": true,
          "points": 1,
          "schema_version": 3,
          "solution": false,
          "task": false
        },
        "id": "74b90aa9"
      },
      "source": [
        ""
      ],
      "id": "74b90aa9",
      "execution_count": null,
      "outputs": []
    },
    {
      "cell_type": "markdown",
      "metadata": {
        "deletable": false,
        "editable": false,
        "nbgrader": {
          "cell_type": "markdown",
          "checksum": "73b20d3c95cfc18e9183ab84d1109e17",
          "grade": false,
          "grade_id": "cell-1b0f90a582a2664c",
          "locked": true,
          "schema_version": 3,
          "solution": false,
          "task": false
        },
        "id": "278a9d81"
      },
      "source": [
        "**Question 10:** \n",
        "* Write a Python function `string_reverse()` with one parameter that reverse a string\n",
        "\n",
        "* s = '1234567890Abcdefghijk' \n",
        "\n",
        "* should be shown:\n",
        "\n",
        "* 'kjihgfedcbA0987654321'\n",
        "\n"
      ],
      "id": "278a9d81"
    },
    {
      "cell_type": "code",
      "metadata": {
        "deletable": false,
        "nbgrader": {
          "cell_type": "code",
          "checksum": "bcac9a92aced86b2f90d79f57bdbed6a",
          "grade": false,
          "grade_id": "cell-571021f5b1d6b48e",
          "locked": false,
          "schema_version": 3,
          "solution": true,
          "task": false
        },
        "id": "50752a3b",
        "outputId": "a8914706-89ec-4d47-b44f-e1e67dba4788",
        "colab": {
          "base_uri": "https://localhost:8080/"
        }
      },
      "source": [
        "# YOUR CODE HERE\n",
        "def string_reverse(a):\n",
        "    be_list =  list(a)\n",
        "    x = be_list.reverse()\n",
        "   \n",
        "    return be_list\n",
        "print(string_reverse(\"asdf\"))"
      ],
      "id": "50752a3b",
      "execution_count": 131,
      "outputs": [
        {
          "output_type": "stream",
          "name": "stdout",
          "text": [
            "['f', 'd', 's', 'a']\n"
          ]
        }
      ]
    },
    {
      "cell_type": "code",
      "metadata": {
        "deletable": false,
        "editable": false,
        "nbgrader": {
          "cell_type": "code",
          "checksum": "442e7d1449e9910262c75bf74d39a4e3",
          "grade": true,
          "grade_id": "cell-78150ab3b4c7ef37",
          "locked": true,
          "points": 1,
          "schema_version": 3,
          "solution": false,
          "task": false
        },
        "id": "755cd861"
      },
      "source": [
        ""
      ],
      "id": "755cd861",
      "execution_count": null,
      "outputs": []
    },
    {
      "cell_type": "markdown",
      "metadata": {
        "deletable": false,
        "editable": false,
        "nbgrader": {
          "cell_type": "markdown",
          "checksum": "095d5a68e9e7ea6c3fb43d7e0275d2b4",
          "grade": false,
          "grade_id": "cell-c02571d4e4176422",
          "locked": true,
          "schema_version": 3,
          "solution": false,
          "task": false
        },
        "id": "392a1da2"
      },
      "source": [
        "### Congratulations! \n",
        "\n",
        "### You complete the fourth laboratory. \n",
        "\n",
        "### Please save your file and save it (push/commit changes) in GitHub in Lab 4. "
      ],
      "id": "392a1da2"
    }
  ]
}