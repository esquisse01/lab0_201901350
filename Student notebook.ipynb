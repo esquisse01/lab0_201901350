{
  "nbformat": 4,
  "nbformat_minor": 5,
  "metadata": {
    "kernelspec": {
      "display_name": "Python 3",
      "language": "python",
      "name": "python3"
    },
    "language_info": {
      "codemirror_mode": {
        "name": "ipython",
        "version": 3
      },
      "file_extension": ".py",
      "mimetype": "text/x-python",
      "name": "python",
      "nbconvert_exporter": "python",
      "pygments_lexer": "ipython3",
      "version": "3.7.11"
    },
    "colab": {
      "name": "Student notebook.ipynb",
      "provenance": [],
      "toc_visible": true
    }
  },
  "cells": [
    {
      "cell_type": "markdown",
      "metadata": {
        "id": "a0fb4d32-1c6a-41f6-bcd5-5e32aea70fdf"
      },
      "source": [
        "# Student Notebook\n",
        "#### This notebook is for you to take notes and save directly to your Google drive and GITHUB.\n",
        "\n",
        "Please upload your changes so you can review it later."
      ],
      "id": "a0fb4d32-1c6a-41f6-bcd5-5e32aea70fdf"
    },
    {
      "cell_type": "markdown",
      "metadata": {
        "id": "9a8d1388-7e11-4262-8e94-581493c554f4"
      },
      "source": [
        "# Introduction to Python Basics I"
      ],
      "id": "9a8d1388-7e11-4262-8e94-581493c554f4"
    },
    {
      "cell_type": "markdown",
      "metadata": {
        "id": "AkqkE3ubNFNZ"
      },
      "source": [
        "### Data type\n",
        "\n",
        "#### Numbers"
      ],
      "id": "AkqkE3ubNFNZ"
    },
    {
      "cell_type": "code",
      "metadata": {
        "colab": {
          "base_uri": "https://localhost:8080/"
        },
        "id": "61d77fcf-3df2-4fee-8da0-d8c0c39f1992",
        "outputId": "f45e74a7-61fd-48a8-8d22-fae9120b663e"
      },
      "source": [
        "1 + 1"
      ],
      "id": "61d77fcf-3df2-4fee-8da0-d8c0c39f1992",
      "execution_count": 1,
      "outputs": [
        {
          "output_type": "execute_result",
          "data": {
            "text/plain": [
              "2"
            ]
          },
          "metadata": {},
          "execution_count": 1
        }
      ]
    },
    {
      "cell_type": "code",
      "metadata": {
        "colab": {
          "base_uri": "https://localhost:8080/"
        },
        "id": "981ce62a-e33e-4a11-a369-b1f63f783208",
        "outputId": "ff07ad5e-cc5c-47d2-a4f1-d15ec64afdbb"
      },
      "source": [
        "1 * 3"
      ],
      "id": "981ce62a-e33e-4a11-a369-b1f63f783208",
      "execution_count": 2,
      "outputs": [
        {
          "output_type": "execute_result",
          "data": {
            "text/plain": [
              "3"
            ]
          },
          "metadata": {},
          "execution_count": 2
        }
      ]
    },
    {
      "cell_type": "code",
      "metadata": {
        "colab": {
          "base_uri": "https://localhost:8080/"
        },
        "id": "8a4eefe9-ec12-4e51-9227-0a769594ccdd",
        "outputId": "f386160a-0400-49ae-dd63-b69e0583e61a"
      },
      "source": [
        "1 / 2"
      ],
      "id": "8a4eefe9-ec12-4e51-9227-0a769594ccdd",
      "execution_count": 3,
      "outputs": [
        {
          "output_type": "execute_result",
          "data": {
            "text/plain": [
              "0.5"
            ]
          },
          "metadata": {},
          "execution_count": 3
        }
      ]
    },
    {
      "cell_type": "code",
      "metadata": {
        "colab": {
          "base_uri": "https://localhost:8080/"
        },
        "id": "b1cbe5c6-102a-4c6a-b09a-b53a9c47b820",
        "outputId": "40a78036-676d-49df-c322-b55a96f38bf9"
      },
      "source": [
        "2 ** 4"
      ],
      "id": "b1cbe5c6-102a-4c6a-b09a-b53a9c47b820",
      "execution_count": 4,
      "outputs": [
        {
          "output_type": "execute_result",
          "data": {
            "text/plain": [
              "16"
            ]
          },
          "metadata": {},
          "execution_count": 4
        }
      ]
    },
    {
      "cell_type": "code",
      "metadata": {
        "colab": {
          "base_uri": "https://localhost:8080/"
        },
        "id": "3832eb93-094f-4de4-9726-f633e246cac5",
        "outputId": "d293ac6c-c879-4cf9-d86f-48fae08e186d"
      },
      "source": [
        "4 % 2"
      ],
      "id": "3832eb93-094f-4de4-9726-f633e246cac5",
      "execution_count": 5,
      "outputs": [
        {
          "output_type": "execute_result",
          "data": {
            "text/plain": [
              "0"
            ]
          },
          "metadata": {},
          "execution_count": 5
        }
      ]
    },
    {
      "cell_type": "code",
      "metadata": {
        "colab": {
          "base_uri": "https://localhost:8080/"
        },
        "id": "520a6910-fec0-4c19-929d-23bbe0290946",
        "outputId": "fbaf5ca3-2e46-4871-813f-bf25cb012135"
      },
      "source": [
        "4 % 3"
      ],
      "id": "520a6910-fec0-4c19-929d-23bbe0290946",
      "execution_count": 6,
      "outputs": [
        {
          "output_type": "execute_result",
          "data": {
            "text/plain": [
              "1"
            ]
          },
          "metadata": {},
          "execution_count": 6
        }
      ]
    },
    {
      "cell_type": "code",
      "metadata": {
        "colab": {
          "base_uri": "https://localhost:8080/"
        },
        "id": "bfd44c86-5e36-4f71-88ef-496589098171",
        "outputId": "5fce2b1c-0fa8-4cae-ed87-294edebdf664"
      },
      "source": [
        "( 2 + 3) * (5 + 5)"
      ],
      "id": "bfd44c86-5e36-4f71-88ef-496589098171",
      "execution_count": 8,
      "outputs": [
        {
          "output_type": "execute_result",
          "data": {
            "text/plain": [
              "50"
            ]
          },
          "metadata": {},
          "execution_count": 8
        }
      ]
    },
    {
      "cell_type": "code",
      "metadata": {
        "colab": {
          "base_uri": "https://localhost:8080/"
        },
        "id": "f8d4c821-eca0-471d-91d8-ccb710d2166b",
        "outputId": "3b8013bb-7e6f-4809-af56-b6a86cc7eac6"
      },
      "source": [
        "type( 4 )"
      ],
      "id": "f8d4c821-eca0-471d-91d8-ccb710d2166b",
      "execution_count": 9,
      "outputs": [
        {
          "output_type": "execute_result",
          "data": {
            "text/plain": [
              "int"
            ]
          },
          "metadata": {},
          "execution_count": 9
        }
      ]
    },
    {
      "cell_type": "code",
      "metadata": {
        "colab": {
          "base_uri": "https://localhost:8080/"
        },
        "id": "89c6149b-6276-48ab-a205-b0aed26c232c",
        "outputId": "99fec8d1-8598-44ad-f8b2-d18ee57c80b6"
      },
      "source": [
        "type( 5.63 )"
      ],
      "id": "89c6149b-6276-48ab-a205-b0aed26c232c",
      "execution_count": 10,
      "outputs": [
        {
          "output_type": "execute_result",
          "data": {
            "text/plain": [
              "float"
            ]
          },
          "metadata": {},
          "execution_count": 10
        }
      ]
    },
    {
      "cell_type": "code",
      "metadata": {
        "colab": {
          "base_uri": "https://localhost:8080/"
        },
        "id": "07686502-7571-481a-8b20-bec590084b7b",
        "outputId": "aa6d0410-843a-46e1-95e3-7462a63fd1b6"
      },
      "source": [
        "type( float(5) )"
      ],
      "id": "07686502-7571-481a-8b20-bec590084b7b",
      "execution_count": 12,
      "outputs": [
        {
          "output_type": "execute_result",
          "data": {
            "text/plain": [
              "float"
            ]
          },
          "metadata": {},
          "execution_count": 12
        }
      ]
    },
    {
      "cell_type": "markdown",
      "metadata": {
        "id": "LGYo6x1oO3iP"
      },
      "source": [
        "#### Variable Assignment"
      ],
      "id": "LGYo6x1oO3iP"
    },
    {
      "cell_type": "code",
      "metadata": {
        "id": "8ca30ace-cb73-43dc-a3b0-2f27aa362c7c"
      },
      "source": [
        "#cannot start with number or special characters \n",
        "\n",
        "name_of_var =  2"
      ],
      "id": "8ca30ace-cb73-43dc-a3b0-2f27aa362c7c",
      "execution_count": 13,
      "outputs": []
    },
    {
      "cell_type": "code",
      "metadata": {
        "colab": {
          "base_uri": "https://localhost:8080/",
          "height": 176
        },
        "id": "0f31b763-9d91-456a-bebe-e57ec2065451",
        "outputId": "1f6c7ff1-dd19-4d9b-928d-aeff2744c057"
      },
      "source": [
        "name_of_var_hello"
      ],
      "id": "0f31b763-9d91-456a-bebe-e57ec2065451",
      "execution_count": 15,
      "outputs": [
        {
          "output_type": "error",
          "ename": "NameError",
          "evalue": "ignored",
          "traceback": [
            "\u001b[0;31m---------------------------------------------------------------------------\u001b[0m",
            "\u001b[0;31mNameError\u001b[0m                                 Traceback (most recent call last)",
            "\u001b[0;32m<ipython-input-15-74622c2459f3>\u001b[0m in \u001b[0;36m<module>\u001b[0;34m()\u001b[0m\n\u001b[0;32m----> 1\u001b[0;31m \u001b[0mname_of_var_hello\u001b[0m\u001b[0;34m\u001b[0m\u001b[0;34m\u001b[0m\u001b[0m\n\u001b[0m",
            "\u001b[0;31mNameError\u001b[0m: name 'name_of_var_hello' is not defined"
          ]
        }
      ]
    },
    {
      "cell_type": "code",
      "metadata": {
        "id": "7b5cd6d5-5466-49ba-b198-7c8983a237cc"
      },
      "source": [
        "x = 2\n",
        "y = 3"
      ],
      "id": "7b5cd6d5-5466-49ba-b198-7c8983a237cc",
      "execution_count": 16,
      "outputs": []
    },
    {
      "cell_type": "code",
      "metadata": {
        "id": "26a6af88-80a4-4bd2-be9b-8d00c3d4a416"
      },
      "source": [
        "z = x + y"
      ],
      "id": "26a6af88-80a4-4bd2-be9b-8d00c3d4a416",
      "execution_count": 17,
      "outputs": []
    },
    {
      "cell_type": "code",
      "metadata": {
        "colab": {
          "base_uri": "https://localhost:8080/"
        },
        "id": "0207740d-fc24-4937-a9ca-f18c2e64aa98",
        "outputId": "6a5b937e-2065-475d-85de-c88e74a8a056"
      },
      "source": [
        "z"
      ],
      "id": "0207740d-fc24-4937-a9ca-f18c2e64aa98",
      "execution_count": 18,
      "outputs": [
        {
          "output_type": "execute_result",
          "data": {
            "text/plain": [
              "5"
            ]
          },
          "metadata": {},
          "execution_count": 18
        }
      ]
    },
    {
      "cell_type": "code",
      "metadata": {
        "colab": {
          "base_uri": "https://localhost:8080/"
        },
        "id": "7492f9ac-99a0-44c7-9289-aae79a7a5ab4",
        "outputId": "c633efd2-da7e-4f04-b539-73aa128ad804"
      },
      "source": [
        "id(x)"
      ],
      "id": "7492f9ac-99a0-44c7-9289-aae79a7a5ab4",
      "execution_count": 19,
      "outputs": [
        {
          "output_type": "execute_result",
          "data": {
            "text/plain": [
              "94185621543456"
            ]
          },
          "metadata": {},
          "execution_count": 19
        }
      ]
    },
    {
      "cell_type": "code",
      "metadata": {
        "colab": {
          "base_uri": "https://localhost:8080/"
        },
        "id": "511545a3-3e1b-4f89-a4c2-50f5a11d6037",
        "outputId": "a554e028-3b1e-4dd8-f5af-0394a66af3cd"
      },
      "source": [
        "id(y)"
      ],
      "id": "511545a3-3e1b-4f89-a4c2-50f5a11d6037",
      "execution_count": 20,
      "outputs": [
        {
          "output_type": "execute_result",
          "data": {
            "text/plain": [
              "94185621543488"
            ]
          },
          "metadata": {},
          "execution_count": 20
        }
      ]
    },
    {
      "cell_type": "code",
      "metadata": {
        "id": "395f484f-2453-4060-a9c6-484cfd699365"
      },
      "source": [
        "x = y"
      ],
      "id": "395f484f-2453-4060-a9c6-484cfd699365",
      "execution_count": 21,
      "outputs": []
    },
    {
      "cell_type": "code",
      "metadata": {
        "colab": {
          "base_uri": "https://localhost:8080/"
        },
        "id": "92eb00c8-432e-46fe-9463-bed79228fd63",
        "outputId": "19ea3a00-1d25-45c8-a8a0-b735d5559964"
      },
      "source": [
        "id(x)"
      ],
      "id": "92eb00c8-432e-46fe-9463-bed79228fd63",
      "execution_count": 22,
      "outputs": [
        {
          "output_type": "execute_result",
          "data": {
            "text/plain": [
              "94185621543488"
            ]
          },
          "metadata": {},
          "execution_count": 22
        }
      ]
    },
    {
      "cell_type": "code",
      "metadata": {
        "id": "a61e99c4-476f-4079-95b7-b02e29e13e73"
      },
      "source": [
        "del (y)"
      ],
      "id": "a61e99c4-476f-4079-95b7-b02e29e13e73",
      "execution_count": 23,
      "outputs": []
    },
    {
      "cell_type": "code",
      "metadata": {
        "colab": {
          "base_uri": "https://localhost:8080/",
          "height": 176
        },
        "id": "6b7e050d-71db-45ec-81b6-b4f593b58930",
        "outputId": "6747c201-3b12-4438-ba5c-d51171e6525f"
      },
      "source": [
        "y"
      ],
      "id": "6b7e050d-71db-45ec-81b6-b4f593b58930",
      "execution_count": 24,
      "outputs": [
        {
          "output_type": "error",
          "ename": "NameError",
          "evalue": "ignored",
          "traceback": [
            "\u001b[0;31m---------------------------------------------------------------------------\u001b[0m",
            "\u001b[0;31mNameError\u001b[0m                                 Traceback (most recent call last)",
            "\u001b[0;32m<ipython-input-24-9063a9f0e032>\u001b[0m in \u001b[0;36m<module>\u001b[0;34m()\u001b[0m\n\u001b[0;32m----> 1\u001b[0;31m \u001b[0my\u001b[0m\u001b[0;34m\u001b[0m\u001b[0;34m\u001b[0m\u001b[0m\n\u001b[0m",
            "\u001b[0;31mNameError\u001b[0m: name 'y' is not defined"
          ]
        }
      ]
    },
    {
      "cell_type": "markdown",
      "metadata": {
        "id": "Mpx19mb6QvOL"
      },
      "source": [
        "#### Strings"
      ],
      "id": "Mpx19mb6QvOL"
    },
    {
      "cell_type": "code",
      "metadata": {
        "colab": {
          "base_uri": "https://localhost:8080/",
          "height": 36
        },
        "id": "75083780-5bf8-4a21-a96f-be036bd6ed6e",
        "outputId": "9d46a027-2e74-4c75-85fa-e9d49c112e85"
      },
      "source": [
        "'single quotes'"
      ],
      "id": "75083780-5bf8-4a21-a96f-be036bd6ed6e",
      "execution_count": 25,
      "outputs": [
        {
          "output_type": "execute_result",
          "data": {
            "application/vnd.google.colaboratory.intrinsic+json": {
              "type": "string"
            },
            "text/plain": [
              "'single quotes'"
            ]
          },
          "metadata": {},
          "execution_count": 25
        }
      ]
    },
    {
      "cell_type": "code",
      "metadata": {
        "colab": {
          "base_uri": "https://localhost:8080/",
          "height": 36
        },
        "id": "7c4c384e-170c-453b-ba73-5b9e1112b30f",
        "outputId": "810a344a-e040-46a3-f61c-2a8f9c5c8f34"
      },
      "source": [
        "\"double quotes\""
      ],
      "id": "7c4c384e-170c-453b-ba73-5b9e1112b30f",
      "execution_count": 26,
      "outputs": [
        {
          "output_type": "execute_result",
          "data": {
            "application/vnd.google.colaboratory.intrinsic+json": {
              "type": "string"
            },
            "text/plain": [
              "'double quotes'"
            ]
          },
          "metadata": {},
          "execution_count": 26
        }
      ]
    },
    {
      "cell_type": "code",
      "metadata": {
        "colab": {
          "base_uri": "https://localhost:8080/",
          "height": 36
        },
        "id": "1ed20989-df63-4537-9543-f633510d2cdf",
        "outputId": "cefc622e-aef7-42eb-af51-46303bf7edad"
      },
      "source": [
        "\" wrap lot's of other quotes \""
      ],
      "id": "1ed20989-df63-4537-9543-f633510d2cdf",
      "execution_count": 28,
      "outputs": [
        {
          "output_type": "execute_result",
          "data": {
            "application/vnd.google.colaboratory.intrinsic+json": {
              "type": "string"
            },
            "text/plain": [
              "\" wrap lot's of other quotes \""
            ]
          },
          "metadata": {},
          "execution_count": 28
        }
      ]
    },
    {
      "cell_type": "code",
      "metadata": {
        "id": "1fefe175-e76f-45c2-9933-f201f6686c78"
      },
      "source": [
        "my_string = \"\"\" Hello, welcome to the world \\\n",
        "of Python \"\"\""
      ],
      "id": "1fefe175-e76f-45c2-9933-f201f6686c78",
      "execution_count": 36,
      "outputs": []
    },
    {
      "cell_type": "code",
      "metadata": {
        "colab": {
          "base_uri": "https://localhost:8080/",
          "height": 36
        },
        "id": "9b98cc92-f24a-446d-bda5-fb4407e55451",
        "outputId": "ee1e4cd6-b027-4bd4-9bbf-4497e2754f45"
      },
      "source": [
        "my_string"
      ],
      "id": "9b98cc92-f24a-446d-bda5-fb4407e55451",
      "execution_count": 37,
      "outputs": [
        {
          "output_type": "execute_result",
          "data": {
            "application/vnd.google.colaboratory.intrinsic+json": {
              "type": "string"
            },
            "text/plain": [
              "' Hello, welcome to the world of Python '"
            ]
          },
          "metadata": {},
          "execution_count": 37
        }
      ]
    },
    {
      "cell_type": "code",
      "metadata": {
        "id": "e91f3af0-53df-4f87-a9f7-c6f79c2fa1bb"
      },
      "source": [
        "st = 'Programming Language 101'"
      ],
      "id": "e91f3af0-53df-4f87-a9f7-c6f79c2fa1bb",
      "execution_count": 33,
      "outputs": []
    },
    {
      "cell_type": "code",
      "metadata": {
        "colab": {
          "base_uri": "https://localhost:8080/",
          "height": 36
        },
        "id": "8fbcdbc0-4902-430f-9d44-451643eb9a6d",
        "outputId": "0be70388-fa33-48ff-9440-721def077cf1"
      },
      "source": [
        "st[0]"
      ],
      "id": "8fbcdbc0-4902-430f-9d44-451643eb9a6d",
      "execution_count": 34,
      "outputs": [
        {
          "output_type": "execute_result",
          "data": {
            "application/vnd.google.colaboratory.intrinsic+json": {
              "type": "string"
            },
            "text/plain": [
              "'P'"
            ]
          },
          "metadata": {},
          "execution_count": 34
        }
      ]
    },
    {
      "cell_type": "code",
      "metadata": {
        "colab": {
          "base_uri": "https://localhost:8080/",
          "height": 36
        },
        "id": "c20fe24b-93dc-454a-9bb7-aa85e77c6d4d",
        "outputId": "17ff1cad-10a6-41bc-ee51-cda4d13c837d"
      },
      "source": [
        "st[-1]"
      ],
      "id": "c20fe24b-93dc-454a-9bb7-aa85e77c6d4d",
      "execution_count": 35,
      "outputs": [
        {
          "output_type": "execute_result",
          "data": {
            "application/vnd.google.colaboratory.intrinsic+json": {
              "type": "string"
            },
            "text/plain": [
              "'1'"
            ]
          },
          "metadata": {},
          "execution_count": 35
        }
      ]
    },
    {
      "cell_type": "code",
      "metadata": {
        "colab": {
          "base_uri": "https://localhost:8080/",
          "height": 36
        },
        "id": "2ec357e0-2539-41fa-81ac-5378df7575e4",
        "outputId": "fd79e748-45b5-4e74-fd16-76d4baa35708"
      },
      "source": [
        "st[-6:]"
      ],
      "id": "2ec357e0-2539-41fa-81ac-5378df7575e4",
      "execution_count": 38,
      "outputs": [
        {
          "output_type": "execute_result",
          "data": {
            "application/vnd.google.colaboratory.intrinsic+json": {
              "type": "string"
            },
            "text/plain": [
              "'ge 101'"
            ]
          },
          "metadata": {},
          "execution_count": 38
        }
      ]
    },
    {
      "cell_type": "code",
      "metadata": {
        "colab": {
          "base_uri": "https://localhost:8080/",
          "height": 36
        },
        "id": "9357fff5-5beb-4722-878a-fa348954682a",
        "outputId": "3c8b8648-0da2-4061-b10d-067b7cfad6e8"
      },
      "source": [
        "st[10:15]"
      ],
      "id": "9357fff5-5beb-4722-878a-fa348954682a",
      "execution_count": 39,
      "outputs": [
        {
          "output_type": "execute_result",
          "data": {
            "application/vnd.google.colaboratory.intrinsic+json": {
              "type": "string"
            },
            "text/plain": [
              "'g Lan'"
            ]
          },
          "metadata": {},
          "execution_count": 39
        }
      ]
    },
    {
      "cell_type": "code",
      "metadata": {
        "colab": {
          "base_uri": "https://localhost:8080/"
        },
        "id": "EDnn0XbZSdYx",
        "outputId": "3d6ae029-d8b0-43f3-dc4d-7e1bf23b93fd"
      },
      "source": [
        "len(st)"
      ],
      "id": "EDnn0XbZSdYx",
      "execution_count": 40,
      "outputs": [
        {
          "output_type": "execute_result",
          "data": {
            "text/plain": [
              "24"
            ]
          },
          "metadata": {},
          "execution_count": 40
        }
      ]
    },
    {
      "cell_type": "code",
      "metadata": {
        "colab": {
          "base_uri": "https://localhost:8080/",
          "height": 36
        },
        "id": "tOlFDFdRSdbh",
        "outputId": "cfa9524b-091a-4779-a4df-6ae5d8cc8404"
      },
      "source": [
        "st.lower()"
      ],
      "id": "tOlFDFdRSdbh",
      "execution_count": 41,
      "outputs": [
        {
          "output_type": "execute_result",
          "data": {
            "application/vnd.google.colaboratory.intrinsic+json": {
              "type": "string"
            },
            "text/plain": [
              "'programming language 101'"
            ]
          },
          "metadata": {},
          "execution_count": 41
        }
      ]
    },
    {
      "cell_type": "code",
      "metadata": {
        "colab": {
          "base_uri": "https://localhost:8080/",
          "height": 36
        },
        "id": "QYRDhwzlS1Mt",
        "outputId": "23a221a9-2dd6-41ba-920b-2ab506d5db9c"
      },
      "source": [
        "st.upper()"
      ],
      "id": "QYRDhwzlS1Mt",
      "execution_count": 42,
      "outputs": [
        {
          "output_type": "execute_result",
          "data": {
            "application/vnd.google.colaboratory.intrinsic+json": {
              "type": "string"
            },
            "text/plain": [
              "'PROGRAMMING LANGUAGE 101'"
            ]
          },
          "metadata": {},
          "execution_count": 42
        }
      ]
    },
    {
      "cell_type": "code",
      "metadata": {
        "colab": {
          "base_uri": "https://localhost:8080/"
        },
        "id": "2PpZYbZ6S1PK",
        "outputId": "5b046b60-be8a-4d46-f97b-f227fd49a309"
      },
      "source": [
        "st.split()"
      ],
      "id": "2PpZYbZ6S1PK",
      "execution_count": 43,
      "outputs": [
        {
          "output_type": "execute_result",
          "data": {
            "text/plain": [
              "['Programming', 'Language', '101']"
            ]
          },
          "metadata": {},
          "execution_count": 43
        }
      ]
    },
    {
      "cell_type": "code",
      "metadata": {
        "colab": {
          "base_uri": "https://localhost:8080/"
        },
        "id": "rb5MZeu8S1Rc",
        "outputId": "fff6104b-abe8-48d6-e0a7-0e09a46b2517"
      },
      "source": [
        "st.split(\"a\")"
      ],
      "id": "rb5MZeu8S1Rc",
      "execution_count": 44,
      "outputs": [
        {
          "output_type": "execute_result",
          "data": {
            "text/plain": [
              "['Progr', 'mming L', 'ngu', 'ge 101']"
            ]
          },
          "metadata": {},
          "execution_count": 44
        }
      ]
    },
    {
      "cell_type": "markdown",
      "metadata": {
        "id": "BLTstnsFTV3m"
      },
      "source": [
        "#### Printing"
      ],
      "id": "BLTstnsFTV3m"
    },
    {
      "cell_type": "code",
      "metadata": {
        "id": "HP6eYaC8S1Tw"
      },
      "source": [
        "num = 12\n",
        "name = 'Anna'"
      ],
      "id": "HP6eYaC8S1Tw",
      "execution_count": 46,
      "outputs": []
    },
    {
      "cell_type": "code",
      "metadata": {
        "colab": {
          "base_uri": "https://localhost:8080/"
        },
        "id": "6mPphmIOSdfK",
        "outputId": "9a452fcf-016a-42d0-95f0-c9ed193f0149"
      },
      "source": [
        "print('My favorite number is: {one},  and my name is: {two}' . format(one = num, two = name))"
      ],
      "id": "6mPphmIOSdfK",
      "execution_count": 48,
      "outputs": [
        {
          "output_type": "stream",
          "name": "stdout",
          "text": [
            "My favorite number is: 12,  and my name is: Anna\n"
          ]
        }
      ]
    },
    {
      "cell_type": "code",
      "metadata": {
        "id": "9AJfmpelSd6d"
      },
      "source": [
        ""
      ],
      "id": "9AJfmpelSd6d",
      "execution_count": null,
      "outputs": []
    }
  ]
}