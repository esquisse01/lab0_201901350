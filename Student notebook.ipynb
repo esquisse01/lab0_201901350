{
  "nbformat": 4,
  "nbformat_minor": 5,
  "metadata": {
    "kernelspec": {
      "display_name": "Python 3",
      "language": "python",
      "name": "python3"
    },
    "language_info": {
      "codemirror_mode": {
        "name": "ipython",
        "version": 3
      },
      "file_extension": ".py",
      "mimetype": "text/x-python",
      "name": "python",
      "nbconvert_exporter": "python",
      "pygments_lexer": "ipython3",
      "version": "3.7.11"
    },
    "colab": {
      "name": "Student notebook.ipynb",
      "provenance": []
    }
  },
  "cells": [
    {
      "cell_type": "markdown",
      "metadata": {
        "id": "a0fb4d32-1c6a-41f6-bcd5-5e32aea70fdf"
      },
      "source": [
        "# Student Notebook\n",
        "#### This notebook is for you to take notes and save directly to your Google drive and GITHUB.\n",
        "\n",
        "Please upload your changes so you can review it later."
      ],
      "id": "a0fb4d32-1c6a-41f6-bcd5-5e32aea70fdf"
    },
    {
      "cell_type": "code",
      "metadata": {
        "id": "dwVYpMR36h9C"
      },
      "source": [
        ""
      ],
      "id": "dwVYpMR36h9C",
      "execution_count": null,
      "outputs": []
    },
    {
      "cell_type": "code",
      "metadata": {
        "id": "FWVQ-j-s6h-8"
      },
      "source": [
        ""
      ],
      "id": "FWVQ-j-s6h-8",
      "execution_count": null,
      "outputs": []
    },
    {
      "cell_type": "code",
      "metadata": {
        "id": "3teuZQ2i6iBU"
      },
      "source": [
        ""
      ],
      "id": "3teuZQ2i6iBU",
      "execution_count": null,
      "outputs": []
    },
    {
      "cell_type": "code",
      "metadata": {
        "id": "9vWp0ZIZ6iDc"
      },
      "source": [
        ""
      ],
      "id": "9vWp0ZIZ6iDc",
      "execution_count": null,
      "outputs": []
    },
    {
      "cell_type": "code",
      "metadata": {
        "id": "bBaf8Gld6iFk"
      },
      "source": [
        ""
      ],
      "id": "bBaf8Gld6iFk",
      "execution_count": null,
      "outputs": []
    },
    {
      "cell_type": "code",
      "metadata": {
        "id": "WKqqxXnD6iIc"
      },
      "source": [
        ""
      ],
      "id": "WKqqxXnD6iIc",
      "execution_count": null,
      "outputs": []
    },
    {
      "cell_type": "code",
      "metadata": {
        "id": "rOGtJv3i6iKv"
      },
      "source": [
        ""
      ],
      "id": "rOGtJv3i6iKv",
      "execution_count": null,
      "outputs": []
    },
    {
      "cell_type": "code",
      "metadata": {
        "id": "RhCUPJ006iM6"
      },
      "source": [
        ""
      ],
      "id": "RhCUPJ006iM6",
      "execution_count": null,
      "outputs": []
    },
    {
      "cell_type": "code",
      "metadata": {
        "id": "JBRuG2YI6iPl"
      },
      "source": [
        ""
      ],
      "id": "JBRuG2YI6iPl",
      "execution_count": null,
      "outputs": []
    },
    {
      "cell_type": "markdown",
      "metadata": {
        "id": "9a8d1388-7e11-4262-8e94-581493c554f4"
      },
      "source": [
        "# Introduction to Python Basics I"
      ],
      "id": "9a8d1388-7e11-4262-8e94-581493c554f4"
    },
    {
      "cell_type": "markdown",
      "metadata": {
        "id": "AkqkE3ubNFNZ"
      },
      "source": [
        "### Data type\n",
        "\n",
        "#### Numbers"
      ],
      "id": "AkqkE3ubNFNZ"
    },
    {
      "cell_type": "code",
      "metadata": {
        "id": "61d77fcf-3df2-4fee-8da0-d8c0c39f1992",
        "colab": {
          "base_uri": "https://localhost:8080/"
        },
        "outputId": "f45e74a7-61fd-48a8-8d22-fae9120b663e"
      },
      "source": [
        "1 + 1"
      ],
      "id": "61d77fcf-3df2-4fee-8da0-d8c0c39f1992",
      "execution_count": null,
      "outputs": [
        {
          "output_type": "execute_result",
          "data": {
            "text/plain": [
              "2"
            ]
          },
          "metadata": {},
          "execution_count": 1
        }
      ]
    },
    {
      "cell_type": "code",
      "metadata": {
        "id": "981ce62a-e33e-4a11-a369-b1f63f783208",
        "colab": {
          "base_uri": "https://localhost:8080/"
        },
        "outputId": "ff07ad5e-cc5c-47d2-a4f1-d15ec64afdbb"
      },
      "source": [
        "1 * 3"
      ],
      "id": "981ce62a-e33e-4a11-a369-b1f63f783208",
      "execution_count": null,
      "outputs": [
        {
          "output_type": "execute_result",
          "data": {
            "text/plain": [
              "3"
            ]
          },
          "metadata": {},
          "execution_count": 2
        }
      ]
    },
    {
      "cell_type": "code",
      "metadata": {
        "id": "8a4eefe9-ec12-4e51-9227-0a769594ccdd",
        "colab": {
          "base_uri": "https://localhost:8080/"
        },
        "outputId": "f386160a-0400-49ae-dd63-b69e0583e61a"
      },
      "source": [
        "1 / 2"
      ],
      "id": "8a4eefe9-ec12-4e51-9227-0a769594ccdd",
      "execution_count": null,
      "outputs": [
        {
          "output_type": "execute_result",
          "data": {
            "text/plain": [
              "0.5"
            ]
          },
          "metadata": {},
          "execution_count": 3
        }
      ]
    },
    {
      "cell_type": "code",
      "metadata": {
        "id": "b1cbe5c6-102a-4c6a-b09a-b53a9c47b820",
        "colab": {
          "base_uri": "https://localhost:8080/"
        },
        "outputId": "40a78036-676d-49df-c322-b55a96f38bf9"
      },
      "source": [
        "2 ** 4"
      ],
      "id": "b1cbe5c6-102a-4c6a-b09a-b53a9c47b820",
      "execution_count": null,
      "outputs": [
        {
          "output_type": "execute_result",
          "data": {
            "text/plain": [
              "16"
            ]
          },
          "metadata": {},
          "execution_count": 4
        }
      ]
    },
    {
      "cell_type": "code",
      "metadata": {
        "id": "3832eb93-094f-4de4-9726-f633e246cac5",
        "colab": {
          "base_uri": "https://localhost:8080/"
        },
        "outputId": "d293ac6c-c879-4cf9-d86f-48fae08e186d"
      },
      "source": [
        "4 % 2"
      ],
      "id": "3832eb93-094f-4de4-9726-f633e246cac5",
      "execution_count": null,
      "outputs": [
        {
          "output_type": "execute_result",
          "data": {
            "text/plain": [
              "0"
            ]
          },
          "metadata": {},
          "execution_count": 5
        }
      ]
    },
    {
      "cell_type": "code",
      "metadata": {
        "id": "520a6910-fec0-4c19-929d-23bbe0290946",
        "colab": {
          "base_uri": "https://localhost:8080/"
        },
        "outputId": "fbaf5ca3-2e46-4871-813f-bf25cb012135"
      },
      "source": [
        "4 % 3"
      ],
      "id": "520a6910-fec0-4c19-929d-23bbe0290946",
      "execution_count": null,
      "outputs": [
        {
          "output_type": "execute_result",
          "data": {
            "text/plain": [
              "1"
            ]
          },
          "metadata": {},
          "execution_count": 6
        }
      ]
    },
    {
      "cell_type": "code",
      "metadata": {
        "id": "bfd44c86-5e36-4f71-88ef-496589098171",
        "colab": {
          "base_uri": "https://localhost:8080/"
        },
        "outputId": "5fce2b1c-0fa8-4cae-ed87-294edebdf664"
      },
      "source": [
        "( 2 + 3) * (5 + 5)"
      ],
      "id": "bfd44c86-5e36-4f71-88ef-496589098171",
      "execution_count": null,
      "outputs": [
        {
          "output_type": "execute_result",
          "data": {
            "text/plain": [
              "50"
            ]
          },
          "metadata": {},
          "execution_count": 8
        }
      ]
    },
    {
      "cell_type": "code",
      "metadata": {
        "id": "f8d4c821-eca0-471d-91d8-ccb710d2166b",
        "colab": {
          "base_uri": "https://localhost:8080/"
        },
        "outputId": "3b8013bb-7e6f-4809-af56-b6a86cc7eac6"
      },
      "source": [
        "type( 4 )"
      ],
      "id": "f8d4c821-eca0-471d-91d8-ccb710d2166b",
      "execution_count": null,
      "outputs": [
        {
          "output_type": "execute_result",
          "data": {
            "text/plain": [
              "int"
            ]
          },
          "metadata": {},
          "execution_count": 9
        }
      ]
    },
    {
      "cell_type": "code",
      "metadata": {
        "id": "89c6149b-6276-48ab-a205-b0aed26c232c",
        "colab": {
          "base_uri": "https://localhost:8080/"
        },
        "outputId": "99fec8d1-8598-44ad-f8b2-d18ee57c80b6"
      },
      "source": [
        "type( 5.63 )"
      ],
      "id": "89c6149b-6276-48ab-a205-b0aed26c232c",
      "execution_count": null,
      "outputs": [
        {
          "output_type": "execute_result",
          "data": {
            "text/plain": [
              "float"
            ]
          },
          "metadata": {},
          "execution_count": 10
        }
      ]
    },
    {
      "cell_type": "code",
      "metadata": {
        "id": "07686502-7571-481a-8b20-bec590084b7b",
        "colab": {
          "base_uri": "https://localhost:8080/"
        },
        "outputId": "aa6d0410-843a-46e1-95e3-7462a63fd1b6"
      },
      "source": [
        "type( float(5) )"
      ],
      "id": "07686502-7571-481a-8b20-bec590084b7b",
      "execution_count": null,
      "outputs": [
        {
          "output_type": "execute_result",
          "data": {
            "text/plain": [
              "float"
            ]
          },
          "metadata": {},
          "execution_count": 12
        }
      ]
    },
    {
      "cell_type": "markdown",
      "metadata": {
        "id": "LGYo6x1oO3iP"
      },
      "source": [
        "#### Variable Assignment"
      ],
      "id": "LGYo6x1oO3iP"
    },
    {
      "cell_type": "code",
      "metadata": {
        "id": "8ca30ace-cb73-43dc-a3b0-2f27aa362c7c"
      },
      "source": [
        "#cannot start with number or special characters \n",
        "\n",
        "name_of_var =  2"
      ],
      "id": "8ca30ace-cb73-43dc-a3b0-2f27aa362c7c",
      "execution_count": null,
      "outputs": []
    },
    {
      "cell_type": "code",
      "metadata": {
        "id": "0f31b763-9d91-456a-bebe-e57ec2065451",
        "colab": {
          "base_uri": "https://localhost:8080/",
          "height": 176
        },
        "outputId": "1f6c7ff1-dd19-4d9b-928d-aeff2744c057"
      },
      "source": [
        "name_of_var_hello"
      ],
      "id": "0f31b763-9d91-456a-bebe-e57ec2065451",
      "execution_count": null,
      "outputs": [
        {
          "output_type": "error",
          "ename": "NameError",
          "evalue": "ignored",
          "traceback": [
            "\u001b[0;31m---------------------------------------------------------------------------\u001b[0m",
            "\u001b[0;31mNameError\u001b[0m                                 Traceback (most recent call last)",
            "\u001b[0;32m<ipython-input-15-74622c2459f3>\u001b[0m in \u001b[0;36m<module>\u001b[0;34m()\u001b[0m\n\u001b[0;32m----> 1\u001b[0;31m \u001b[0mname_of_var_hello\u001b[0m\u001b[0;34m\u001b[0m\u001b[0;34m\u001b[0m\u001b[0m\n\u001b[0m",
            "\u001b[0;31mNameError\u001b[0m: name 'name_of_var_hello' is not defined"
          ]
        }
      ]
    },
    {
      "cell_type": "code",
      "metadata": {
        "id": "7b5cd6d5-5466-49ba-b198-7c8983a237cc"
      },
      "source": [
        "x = 2\n",
        "y = 3"
      ],
      "id": "7b5cd6d5-5466-49ba-b198-7c8983a237cc",
      "execution_count": null,
      "outputs": []
    },
    {
      "cell_type": "code",
      "metadata": {
        "id": "26a6af88-80a4-4bd2-be9b-8d00c3d4a416"
      },
      "source": [
        "z = x + y"
      ],
      "id": "26a6af88-80a4-4bd2-be9b-8d00c3d4a416",
      "execution_count": null,
      "outputs": []
    },
    {
      "cell_type": "code",
      "metadata": {
        "id": "0207740d-fc24-4937-a9ca-f18c2e64aa98",
        "colab": {
          "base_uri": "https://localhost:8080/"
        },
        "outputId": "6a5b937e-2065-475d-85de-c88e74a8a056"
      },
      "source": [
        "z"
      ],
      "id": "0207740d-fc24-4937-a9ca-f18c2e64aa98",
      "execution_count": null,
      "outputs": [
        {
          "output_type": "execute_result",
          "data": {
            "text/plain": [
              "5"
            ]
          },
          "metadata": {},
          "execution_count": 18
        }
      ]
    },
    {
      "cell_type": "code",
      "metadata": {
        "id": "7492f9ac-99a0-44c7-9289-aae79a7a5ab4",
        "colab": {
          "base_uri": "https://localhost:8080/"
        },
        "outputId": "c633efd2-da7e-4f04-b539-73aa128ad804"
      },
      "source": [
        "id(x)"
      ],
      "id": "7492f9ac-99a0-44c7-9289-aae79a7a5ab4",
      "execution_count": null,
      "outputs": [
        {
          "output_type": "execute_result",
          "data": {
            "text/plain": [
              "94185621543456"
            ]
          },
          "metadata": {},
          "execution_count": 19
        }
      ]
    },
    {
      "cell_type": "code",
      "metadata": {
        "id": "511545a3-3e1b-4f89-a4c2-50f5a11d6037",
        "colab": {
          "base_uri": "https://localhost:8080/"
        },
        "outputId": "a554e028-3b1e-4dd8-f5af-0394a66af3cd"
      },
      "source": [
        "id(y)"
      ],
      "id": "511545a3-3e1b-4f89-a4c2-50f5a11d6037",
      "execution_count": null,
      "outputs": [
        {
          "output_type": "execute_result",
          "data": {
            "text/plain": [
              "94185621543488"
            ]
          },
          "metadata": {},
          "execution_count": 20
        }
      ]
    },
    {
      "cell_type": "code",
      "metadata": {
        "id": "395f484f-2453-4060-a9c6-484cfd699365"
      },
      "source": [
        "x = y"
      ],
      "id": "395f484f-2453-4060-a9c6-484cfd699365",
      "execution_count": null,
      "outputs": []
    },
    {
      "cell_type": "code",
      "metadata": {
        "id": "92eb00c8-432e-46fe-9463-bed79228fd63",
        "colab": {
          "base_uri": "https://localhost:8080/"
        },
        "outputId": "19ea3a00-1d25-45c8-a8a0-b735d5559964"
      },
      "source": [
        "id(x)"
      ],
      "id": "92eb00c8-432e-46fe-9463-bed79228fd63",
      "execution_count": null,
      "outputs": [
        {
          "output_type": "execute_result",
          "data": {
            "text/plain": [
              "94185621543488"
            ]
          },
          "metadata": {},
          "execution_count": 22
        }
      ]
    },
    {
      "cell_type": "code",
      "metadata": {
        "id": "a61e99c4-476f-4079-95b7-b02e29e13e73"
      },
      "source": [
        "del (y)"
      ],
      "id": "a61e99c4-476f-4079-95b7-b02e29e13e73",
      "execution_count": null,
      "outputs": []
    },
    {
      "cell_type": "code",
      "metadata": {
        "id": "6b7e050d-71db-45ec-81b6-b4f593b58930",
        "colab": {
          "base_uri": "https://localhost:8080/",
          "height": 176
        },
        "outputId": "6747c201-3b12-4438-ba5c-d51171e6525f"
      },
      "source": [
        "y"
      ],
      "id": "6b7e050d-71db-45ec-81b6-b4f593b58930",
      "execution_count": null,
      "outputs": [
        {
          "output_type": "error",
          "ename": "NameError",
          "evalue": "ignored",
          "traceback": [
            "\u001b[0;31m---------------------------------------------------------------------------\u001b[0m",
            "\u001b[0;31mNameError\u001b[0m                                 Traceback (most recent call last)",
            "\u001b[0;32m<ipython-input-24-9063a9f0e032>\u001b[0m in \u001b[0;36m<module>\u001b[0;34m()\u001b[0m\n\u001b[0;32m----> 1\u001b[0;31m \u001b[0my\u001b[0m\u001b[0;34m\u001b[0m\u001b[0;34m\u001b[0m\u001b[0m\n\u001b[0m",
            "\u001b[0;31mNameError\u001b[0m: name 'y' is not defined"
          ]
        }
      ]
    },
    {
      "cell_type": "markdown",
      "metadata": {
        "id": "Mpx19mb6QvOL"
      },
      "source": [
        "#### Strings"
      ],
      "id": "Mpx19mb6QvOL"
    },
    {
      "cell_type": "code",
      "metadata": {
        "id": "75083780-5bf8-4a21-a96f-be036bd6ed6e",
        "colab": {
          "base_uri": "https://localhost:8080/",
          "height": 36
        },
        "outputId": "9d46a027-2e74-4c75-85fa-e9d49c112e85"
      },
      "source": [
        "'single quotes'"
      ],
      "id": "75083780-5bf8-4a21-a96f-be036bd6ed6e",
      "execution_count": null,
      "outputs": [
        {
          "output_type": "execute_result",
          "data": {
            "application/vnd.google.colaboratory.intrinsic+json": {
              "type": "string"
            },
            "text/plain": [
              "'single quotes'"
            ]
          },
          "metadata": {},
          "execution_count": 25
        }
      ]
    },
    {
      "cell_type": "code",
      "metadata": {
        "id": "7c4c384e-170c-453b-ba73-5b9e1112b30f",
        "colab": {
          "base_uri": "https://localhost:8080/",
          "height": 36
        },
        "outputId": "810a344a-e040-46a3-f61c-2a8f9c5c8f34"
      },
      "source": [
        "\"double quotes\""
      ],
      "id": "7c4c384e-170c-453b-ba73-5b9e1112b30f",
      "execution_count": null,
      "outputs": [
        {
          "output_type": "execute_result",
          "data": {
            "application/vnd.google.colaboratory.intrinsic+json": {
              "type": "string"
            },
            "text/plain": [
              "'double quotes'"
            ]
          },
          "metadata": {},
          "execution_count": 26
        }
      ]
    },
    {
      "cell_type": "code",
      "metadata": {
        "id": "1ed20989-df63-4537-9543-f633510d2cdf",
        "colab": {
          "base_uri": "https://localhost:8080/",
          "height": 36
        },
        "outputId": "cefc622e-aef7-42eb-af51-46303bf7edad"
      },
      "source": [
        "\" wrap lot's of other quotes \""
      ],
      "id": "1ed20989-df63-4537-9543-f633510d2cdf",
      "execution_count": null,
      "outputs": [
        {
          "output_type": "execute_result",
          "data": {
            "application/vnd.google.colaboratory.intrinsic+json": {
              "type": "string"
            },
            "text/plain": [
              "\" wrap lot's of other quotes \""
            ]
          },
          "metadata": {},
          "execution_count": 28
        }
      ]
    },
    {
      "cell_type": "code",
      "metadata": {
        "id": "1fefe175-e76f-45c2-9933-f201f6686c78"
      },
      "source": [
        "my_string = \"\"\" Hello, welcome to the world \\\n",
        "of Python \"\"\""
      ],
      "id": "1fefe175-e76f-45c2-9933-f201f6686c78",
      "execution_count": null,
      "outputs": []
    },
    {
      "cell_type": "code",
      "metadata": {
        "id": "9b98cc92-f24a-446d-bda5-fb4407e55451",
        "colab": {
          "base_uri": "https://localhost:8080/",
          "height": 36
        },
        "outputId": "ee1e4cd6-b027-4bd4-9bbf-4497e2754f45"
      },
      "source": [
        "my_string"
      ],
      "id": "9b98cc92-f24a-446d-bda5-fb4407e55451",
      "execution_count": null,
      "outputs": [
        {
          "output_type": "execute_result",
          "data": {
            "application/vnd.google.colaboratory.intrinsic+json": {
              "type": "string"
            },
            "text/plain": [
              "' Hello, welcome to the world of Python '"
            ]
          },
          "metadata": {},
          "execution_count": 37
        }
      ]
    },
    {
      "cell_type": "code",
      "metadata": {
        "id": "e91f3af0-53df-4f87-a9f7-c6f79c2fa1bb"
      },
      "source": [
        "st = 'Programming Language 101'"
      ],
      "id": "e91f3af0-53df-4f87-a9f7-c6f79c2fa1bb",
      "execution_count": null,
      "outputs": []
    },
    {
      "cell_type": "code",
      "metadata": {
        "id": "8fbcdbc0-4902-430f-9d44-451643eb9a6d",
        "colab": {
          "base_uri": "https://localhost:8080/",
          "height": 36
        },
        "outputId": "0be70388-fa33-48ff-9440-721def077cf1"
      },
      "source": [
        "st[0]"
      ],
      "id": "8fbcdbc0-4902-430f-9d44-451643eb9a6d",
      "execution_count": null,
      "outputs": [
        {
          "output_type": "execute_result",
          "data": {
            "application/vnd.google.colaboratory.intrinsic+json": {
              "type": "string"
            },
            "text/plain": [
              "'P'"
            ]
          },
          "metadata": {},
          "execution_count": 34
        }
      ]
    },
    {
      "cell_type": "code",
      "metadata": {
        "id": "c20fe24b-93dc-454a-9bb7-aa85e77c6d4d",
        "colab": {
          "base_uri": "https://localhost:8080/",
          "height": 36
        },
        "outputId": "17ff1cad-10a6-41bc-ee51-cda4d13c837d"
      },
      "source": [
        "st[-1]"
      ],
      "id": "c20fe24b-93dc-454a-9bb7-aa85e77c6d4d",
      "execution_count": null,
      "outputs": [
        {
          "output_type": "execute_result",
          "data": {
            "application/vnd.google.colaboratory.intrinsic+json": {
              "type": "string"
            },
            "text/plain": [
              "'1'"
            ]
          },
          "metadata": {},
          "execution_count": 35
        }
      ]
    },
    {
      "cell_type": "code",
      "metadata": {
        "id": "2ec357e0-2539-41fa-81ac-5378df7575e4",
        "colab": {
          "base_uri": "https://localhost:8080/",
          "height": 36
        },
        "outputId": "fd79e748-45b5-4e74-fd16-76d4baa35708"
      },
      "source": [
        "st[-6:]"
      ],
      "id": "2ec357e0-2539-41fa-81ac-5378df7575e4",
      "execution_count": null,
      "outputs": [
        {
          "output_type": "execute_result",
          "data": {
            "application/vnd.google.colaboratory.intrinsic+json": {
              "type": "string"
            },
            "text/plain": [
              "'ge 101'"
            ]
          },
          "metadata": {},
          "execution_count": 38
        }
      ]
    },
    {
      "cell_type": "code",
      "metadata": {
        "id": "9357fff5-5beb-4722-878a-fa348954682a",
        "colab": {
          "base_uri": "https://localhost:8080/",
          "height": 36
        },
        "outputId": "3c8b8648-0da2-4061-b10d-067b7cfad6e8"
      },
      "source": [
        "st[10:15]"
      ],
      "id": "9357fff5-5beb-4722-878a-fa348954682a",
      "execution_count": null,
      "outputs": [
        {
          "output_type": "execute_result",
          "data": {
            "application/vnd.google.colaboratory.intrinsic+json": {
              "type": "string"
            },
            "text/plain": [
              "'g Lan'"
            ]
          },
          "metadata": {},
          "execution_count": 39
        }
      ]
    },
    {
      "cell_type": "code",
      "metadata": {
        "id": "EDnn0XbZSdYx",
        "colab": {
          "base_uri": "https://localhost:8080/"
        },
        "outputId": "3d6ae029-d8b0-43f3-dc4d-7e1bf23b93fd"
      },
      "source": [
        "len(st)"
      ],
      "id": "EDnn0XbZSdYx",
      "execution_count": null,
      "outputs": [
        {
          "output_type": "execute_result",
          "data": {
            "text/plain": [
              "24"
            ]
          },
          "metadata": {},
          "execution_count": 40
        }
      ]
    },
    {
      "cell_type": "code",
      "metadata": {
        "id": "tOlFDFdRSdbh",
        "colab": {
          "base_uri": "https://localhost:8080/",
          "height": 36
        },
        "outputId": "cfa9524b-091a-4779-a4df-6ae5d8cc8404"
      },
      "source": [
        "st.lower()"
      ],
      "id": "tOlFDFdRSdbh",
      "execution_count": null,
      "outputs": [
        {
          "output_type": "execute_result",
          "data": {
            "application/vnd.google.colaboratory.intrinsic+json": {
              "type": "string"
            },
            "text/plain": [
              "'programming language 101'"
            ]
          },
          "metadata": {},
          "execution_count": 41
        }
      ]
    },
    {
      "cell_type": "code",
      "metadata": {
        "id": "QYRDhwzlS1Mt",
        "colab": {
          "base_uri": "https://localhost:8080/",
          "height": 36
        },
        "outputId": "23a221a9-2dd6-41ba-920b-2ab506d5db9c"
      },
      "source": [
        "st.upper()"
      ],
      "id": "QYRDhwzlS1Mt",
      "execution_count": null,
      "outputs": [
        {
          "output_type": "execute_result",
          "data": {
            "application/vnd.google.colaboratory.intrinsic+json": {
              "type": "string"
            },
            "text/plain": [
              "'PROGRAMMING LANGUAGE 101'"
            ]
          },
          "metadata": {},
          "execution_count": 42
        }
      ]
    },
    {
      "cell_type": "code",
      "metadata": {
        "id": "2PpZYbZ6S1PK",
        "colab": {
          "base_uri": "https://localhost:8080/"
        },
        "outputId": "5b046b60-be8a-4d46-f97b-f227fd49a309"
      },
      "source": [
        "st.split()"
      ],
      "id": "2PpZYbZ6S1PK",
      "execution_count": null,
      "outputs": [
        {
          "output_type": "execute_result",
          "data": {
            "text/plain": [
              "['Programming', 'Language', '101']"
            ]
          },
          "metadata": {},
          "execution_count": 43
        }
      ]
    },
    {
      "cell_type": "code",
      "metadata": {
        "id": "rb5MZeu8S1Rc",
        "colab": {
          "base_uri": "https://localhost:8080/"
        },
        "outputId": "fff6104b-abe8-48d6-e0a7-0e09a46b2517"
      },
      "source": [
        "st.split(\"a\")"
      ],
      "id": "rb5MZeu8S1Rc",
      "execution_count": null,
      "outputs": [
        {
          "output_type": "execute_result",
          "data": {
            "text/plain": [
              "['Progr', 'mming L', 'ngu', 'ge 101']"
            ]
          },
          "metadata": {},
          "execution_count": 44
        }
      ]
    },
    {
      "cell_type": "markdown",
      "metadata": {
        "id": "BLTstnsFTV3m"
      },
      "source": [
        "#### Printing"
      ],
      "id": "BLTstnsFTV3m"
    },
    {
      "cell_type": "code",
      "metadata": {
        "id": "HP6eYaC8S1Tw"
      },
      "source": [
        "num = 12\n",
        "name = 'Anna'"
      ],
      "id": "HP6eYaC8S1Tw",
      "execution_count": null,
      "outputs": []
    },
    {
      "cell_type": "code",
      "metadata": {
        "id": "6mPphmIOSdfK",
        "colab": {
          "base_uri": "https://localhost:8080/"
        },
        "outputId": "9a452fcf-016a-42d0-95f0-c9ed193f0149"
      },
      "source": [
        "print('My favorite number is: {one},  and my name is: {two}' . format(one = num, two = name))"
      ],
      "id": "6mPphmIOSdfK",
      "execution_count": null,
      "outputs": [
        {
          "output_type": "stream",
          "name": "stdout",
          "text": [
            "My favorite number is: 12,  and my name is: Anna\n"
          ]
        }
      ]
    },
    {
      "cell_type": "markdown",
      "metadata": {
        "id": "eGoBnO_d6trV"
      },
      "source": [
        "###Dictionaries"
      ],
      "id": "eGoBnO_d6trV"
    },
    {
      "cell_type": "code",
      "metadata": {
        "id": "9AJfmpelSd6d"
      },
      "source": [
        "# As python version 3.7, dictionaries are ordered. Previously, inpython 3.6 and earlier, dictionaries are unordered.\n",
        "\n",
        "d = {'key1':'item1', 'key2' : 'item2'}"
      ],
      "id": "9AJfmpelSd6d",
      "execution_count": 1,
      "outputs": []
    },
    {
      "cell_type": "code",
      "metadata": {
        "id": "u3LZlyiz6msg",
        "outputId": "be8b6658-18e6-431e-95b8-da45178d79e6",
        "colab": {
          "base_uri": "https://localhost:8080/"
        }
      },
      "source": [
        "print(d)"
      ],
      "id": "u3LZlyiz6msg",
      "execution_count": 4,
      "outputs": [
        {
          "output_type": "stream",
          "name": "stdout",
          "text": [
            "{'key1': 'item1', 'key2': 'item2'}\n"
          ]
        }
      ]
    },
    {
      "cell_type": "code",
      "metadata": {
        "id": "dLdICJ_o77sf",
        "outputId": "59eb2ffb-7333-4799-b21f-a0789eb1ef58",
        "colab": {
          "base_uri": "https://localhost:8080/",
          "height": 36
        }
      },
      "source": [
        "d['key1']"
      ],
      "id": "dLdICJ_o77sf",
      "execution_count": 5,
      "outputs": [
        {
          "output_type": "execute_result",
          "data": {
            "application/vnd.google.colaboratory.intrinsic+json": {
              "type": "string"
            },
            "text/plain": [
              "'item1'"
            ]
          },
          "metadata": {},
          "execution_count": 5
        }
      ]
    },
    {
      "cell_type": "code",
      "metadata": {
        "id": "UcqdPBpP77wo",
        "outputId": "99d7575e-3a97-4eb9-cbce-3c5d1ebaf3ab",
        "colab": {
          "base_uri": "https://localhost:8080/"
        }
      },
      "source": [
        "d.keys()"
      ],
      "id": "UcqdPBpP77wo",
      "execution_count": 6,
      "outputs": [
        {
          "output_type": "execute_result",
          "data": {
            "text/plain": [
              "dict_keys(['key1', 'key2'])"
            ]
          },
          "metadata": {},
          "execution_count": 6
        }
      ]
    },
    {
      "cell_type": "code",
      "metadata": {
        "id": "PYIuuUDC771p",
        "outputId": "25de3330-a521-494a-885c-3327db04c56d",
        "colab": {
          "base_uri": "https://localhost:8080/"
        }
      },
      "source": [
        "d.items()"
      ],
      "id": "PYIuuUDC771p",
      "execution_count": 7,
      "outputs": [
        {
          "output_type": "execute_result",
          "data": {
            "text/plain": [
              "dict_items([('key1', 'item1'), ('key2', 'item2')])"
            ]
          },
          "metadata": {},
          "execution_count": 7
        }
      ]
    },
    {
      "cell_type": "code",
      "metadata": {
        "id": "89a9RUns774u"
      },
      "source": [
        "temp_dict = {'Suwon': 26,'Incheon' : 24 , 'seoul' : 25}"
      ],
      "id": "89a9RUns774u",
      "execution_count": 8,
      "outputs": []
    },
    {
      "cell_type": "code",
      "metadata": {
        "id": "2A5sT8V5778D",
        "outputId": "37a7d3f1-4f97-4a15-d6e9-d1489fc1bce6",
        "colab": {
          "base_uri": "https://localhost:8080/"
        }
      },
      "source": [
        "print(\"Temperature for Incheon is:\",temp_dict['Incheon'])"
      ],
      "id": "2A5sT8V5778D",
      "execution_count": 9,
      "outputs": [
        {
          "output_type": "stream",
          "name": "stdout",
          "text": [
            "Temperature for Incheon is: 24\n"
          ]
        }
      ]
    },
    {
      "cell_type": "code",
      "metadata": {
        "id": "xmyT1lyn78BE",
        "outputId": "e06fae60-033f-4905-e4bb-d3c1bb5c19e2",
        "colab": {
          "base_uri": "https://localhost:8080/"
        }
      },
      "source": [
        "#update a value\n",
        "temp_dict['Suwon'] = 25\n",
        "print(temp_dict)"
      ],
      "id": "xmyT1lyn78BE",
      "execution_count": 10,
      "outputs": [
        {
          "output_type": "stream",
          "name": "stdout",
          "text": [
            "{'Suwon': 25, 'Incheon': 24, 'seoul': 25}\n"
          ]
        }
      ]
    },
    {
      "cell_type": "code",
      "metadata": {
        "id": "tf2KqGbF78Gf",
        "outputId": "8c981ddb-f428-446d-9128-fcb0a7d388b2",
        "colab": {
          "base_uri": "https://localhost:8080/"
        }
      },
      "source": [
        "for item in temp_dict:\n",
        "  print(\"key: \", item, \" values \",temp_dict[item])"
      ],
      "id": "tf2KqGbF78Gf",
      "execution_count": 11,
      "outputs": [
        {
          "output_type": "stream",
          "name": "stdout",
          "text": [
            "key:  Suwon  values  25\n",
            "key:  Incheon  values  24\n",
            "key:  seoul  values  25\n"
          ]
        }
      ]
    },
    {
      "cell_type": "code",
      "metadata": {
        "id": "4FFyvoHh78Kp"
      },
      "source": [
        "#adding items\n",
        "\n",
        "car = {\n",
        "     'brand': 'Ford',\n",
        "     'model':'Mustang',\n",
        "     'year' : 1964\n",
        " }"
      ],
      "id": "4FFyvoHh78Kp",
      "execution_count": 15,
      "outputs": []
    },
    {
      "cell_type": "code",
      "metadata": {
        "id": "dbmBk96P6nsx"
      },
      "source": [
        "car['color'] = 'red'"
      ],
      "id": "dbmBk96P6nsx",
      "execution_count": 16,
      "outputs": []
    },
    {
      "cell_type": "code",
      "metadata": {
        "id": "HMgq1V6U6n2p",
        "outputId": "7a62ce88-cb0e-4953-c5cd-1dbe7bad68d1",
        "colab": {
          "base_uri": "https://localhost:8080/"
        }
      },
      "source": [
        "print(car)"
      ],
      "id": "HMgq1V6U6n2p",
      "execution_count": 17,
      "outputs": [
        {
          "output_type": "stream",
          "name": "stdout",
          "text": [
            "{'brand': 'Ford', 'model': 'Mustang', 'year': 1964, 'color': 'red'}\n"
          ]
        }
      ]
    },
    {
      "cell_type": "code",
      "metadata": {
        "id": "vxXT6nAB6n5P",
        "outputId": "3a5b0cf0-befc-487e-d688-fb217deaee53",
        "colab": {
          "base_uri": "https://localhost:8080/"
        }
      },
      "source": [
        "car.pop('color')\n",
        "print(car)"
      ],
      "id": "vxXT6nAB6n5P",
      "execution_count": 18,
      "outputs": [
        {
          "output_type": "stream",
          "name": "stdout",
          "text": [
            "{'brand': 'Ford', 'model': 'Mustang', 'year': 1964}\n"
          ]
        }
      ]
    },
    {
      "cell_type": "code",
      "metadata": {
        "id": "vz4ZrqID6n7U"
      },
      "source": [
        "mycars = {\n",
        "    'car1' : {\n",
        "        'brand': 'Ford',\n",
        "        'model' : 'mustand',\n",
        "        'year' : 1964\n",
        "    },\n",
        "    'car2' : {\n",
        "        'brand' : 'Porche',\n",
        "        'model ': 'carrera GT',\n",
        "        'year' : 2021\n",
        "    }\n",
        "\n",
        "\n",
        "\n",
        "\n",
        "\n",
        "}"
      ],
      "id": "vz4ZrqID6n7U",
      "execution_count": 19,
      "outputs": []
    },
    {
      "cell_type": "code",
      "metadata": {
        "id": "BfjA_lHd6n95",
        "outputId": "8325d19a-0406-43cf-a7b2-f4e59c8ab170",
        "colab": {
          "base_uri": "https://localhost:8080/"
        }
      },
      "source": [
        "print(mycars)"
      ],
      "id": "BfjA_lHd6n95",
      "execution_count": 20,
      "outputs": [
        {
          "output_type": "stream",
          "name": "stdout",
          "text": [
            "{'car1': {'brand': 'Ford', 'model': 'mustand', 'year': 1964}, 'car2': {'brand': 'Porche', 'model ': 'carrera GT', 'year': 2021}}\n"
          ]
        }
      ]
    },
    {
      "cell_type": "markdown",
      "metadata": {
        "id": "nmWTOvk4_7P0"
      },
      "source": [
        "### Comparison Opearators"
      ],
      "id": "nmWTOvk4_7P0"
    },
    {
      "cell_type": "code",
      "metadata": {
        "id": "6JTKjOZU6oA1",
        "outputId": "5d4e9586-4191-4210-bf9e-fcdaedf74137",
        "colab": {
          "base_uri": "https://localhost:8080/"
        }
      },
      "source": [
        "1 > 2"
      ],
      "id": "6JTKjOZU6oA1",
      "execution_count": 21,
      "outputs": [
        {
          "output_type": "execute_result",
          "data": {
            "text/plain": [
              "False"
            ]
          },
          "metadata": {},
          "execution_count": 21
        }
      ]
    },
    {
      "cell_type": "code",
      "metadata": {
        "id": "IlMfKzvn_vCN",
        "outputId": "6b6b2195-a8b1-484a-8833-2edc89e6d338",
        "colab": {
          "base_uri": "https://localhost:8080/"
        }
      },
      "source": [
        "3>2"
      ],
      "id": "IlMfKzvn_vCN",
      "execution_count": 23,
      "outputs": [
        {
          "output_type": "execute_result",
          "data": {
            "text/plain": [
              "True"
            ]
          },
          "metadata": {},
          "execution_count": 23
        }
      ]
    },
    {
      "cell_type": "code",
      "metadata": {
        "id": "HSKAx5st_vGa",
        "outputId": "2069b5ec-29bd-45e5-efce-acd7e37ae36d",
        "colab": {
          "base_uri": "https://localhost:8080/"
        }
      },
      "source": [
        "1 <2"
      ],
      "id": "HSKAx5st_vGa",
      "execution_count": 24,
      "outputs": [
        {
          "output_type": "execute_result",
          "data": {
            "text/plain": [
              "True"
            ]
          },
          "metadata": {},
          "execution_count": 24
        }
      ]
    },
    {
      "cell_type": "code",
      "metadata": {
        "id": "CleuhPh3_vKi",
        "outputId": "01f33ea6-8e1d-4253-8f5c-d40604c5ecd0",
        "colab": {
          "base_uri": "https://localhost:8080/"
        }
      },
      "source": [
        "2<1"
      ],
      "id": "CleuhPh3_vKi",
      "execution_count": 25,
      "outputs": [
        {
          "output_type": "execute_result",
          "data": {
            "text/plain": [
              "False"
            ]
          },
          "metadata": {},
          "execution_count": 25
        }
      ]
    },
    {
      "cell_type": "code",
      "metadata": {
        "id": "aEe2ib79_vNb",
        "outputId": "5deac3ab-9814-4b07-eb49-9e7d937520b8",
        "colab": {
          "base_uri": "https://localhost:8080/"
        }
      },
      "source": [
        "1>=1"
      ],
      "id": "aEe2ib79_vNb",
      "execution_count": 27,
      "outputs": [
        {
          "output_type": "execute_result",
          "data": {
            "text/plain": [
              "True"
            ]
          },
          "metadata": {},
          "execution_count": 27
        }
      ]
    },
    {
      "cell_type": "code",
      "metadata": {
        "id": "Is7MTRKb_vPu",
        "outputId": "ce89af40-572c-4551-da73-d5576217ec8e",
        "colab": {
          "base_uri": "https://localhost:8080/"
        }
      },
      "source": [
        "1 == 1"
      ],
      "id": "Is7MTRKb_vPu",
      "execution_count": 28,
      "outputs": [
        {
          "output_type": "execute_result",
          "data": {
            "text/plain": [
              "True"
            ]
          },
          "metadata": {},
          "execution_count": 28
        }
      ]
    },
    {
      "cell_type": "code",
      "metadata": {
        "id": "Mfnm2xsh_vR6",
        "outputId": "f65a7224-d3be-46a5-a760-329bd6b1fdfc",
        "colab": {
          "base_uri": "https://localhost:8080/"
        }
      },
      "source": [
        "'hi' == 'bye'"
      ],
      "id": "Mfnm2xsh_vR6",
      "execution_count": 29,
      "outputs": [
        {
          "output_type": "execute_result",
          "data": {
            "text/plain": [
              "False"
            ]
          },
          "metadata": {},
          "execution_count": 29
        }
      ]
    },
    {
      "cell_type": "code",
      "metadata": {
        "id": "_76WkkO16oEC",
        "outputId": "2efafe29-b984-44b6-d26c-a57737394ad3",
        "colab": {
          "base_uri": "https://localhost:8080/"
        }
      },
      "source": [
        "'hi' == 'HI'"
      ],
      "id": "_76WkkO16oEC",
      "execution_count": 30,
      "outputs": [
        {
          "output_type": "execute_result",
          "data": {
            "text/plain": [
              "False"
            ]
          },
          "metadata": {},
          "execution_count": 30
        }
      ]
    },
    {
      "cell_type": "code",
      "metadata": {
        "id": "UPHAWRxE6oGa"
      },
      "source": [
        "list1 = [1,2,3]\n",
        "list2 = ['a', 'b', 'c']"
      ],
      "id": "UPHAWRxE6oGa",
      "execution_count": 33,
      "outputs": []
    },
    {
      "cell_type": "code",
      "metadata": {
        "id": "wvbAZq1e6oKJ",
        "outputId": "7eefe451-f90d-428c-c98b-3c4d6f2ff1c9",
        "colab": {
          "base_uri": "https://localhost:8080/"
        }
      },
      "source": [
        "list1 ==list2"
      ],
      "id": "wvbAZq1e6oKJ",
      "execution_count": 34,
      "outputs": [
        {
          "output_type": "execute_result",
          "data": {
            "text/plain": [
              "False"
            ]
          },
          "metadata": {},
          "execution_count": 34
        }
      ]
    },
    {
      "cell_type": "markdown",
      "metadata": {
        "id": "wcXzw2CABjUl"
      },
      "source": [
        "### Logic Operatiors"
      ],
      "id": "wcXzw2CABjUl"
    },
    {
      "cell_type": "code",
      "metadata": {
        "id": "pbAVpbRI6oMi",
        "outputId": "f2683c59-3c66-433b-d24b-19712ae35031",
        "colab": {
          "base_uri": "https://localhost:8080/"
        }
      },
      "source": [
        "(1>2) and (2<3)"
      ],
      "id": "pbAVpbRI6oMi",
      "execution_count": 37,
      "outputs": [
        {
          "output_type": "execute_result",
          "data": {
            "text/plain": [
              "False"
            ]
          },
          "metadata": {},
          "execution_count": 37
        }
      ]
    },
    {
      "cell_type": "code",
      "metadata": {
        "id": "_IRSdCwqBhgb",
        "outputId": "bc08ade4-a838-4ae2-b75a-dd7cd0fea5ed",
        "colab": {
          "base_uri": "https://localhost:8080/"
        }
      },
      "source": [
        "(1>=1) and (4<9)"
      ],
      "id": "_IRSdCwqBhgb",
      "execution_count": 38,
      "outputs": [
        {
          "output_type": "execute_result",
          "data": {
            "text/plain": [
              "True"
            ]
          },
          "metadata": {},
          "execution_count": 38
        }
      ]
    },
    {
      "cell_type": "code",
      "metadata": {
        "id": "Hf3e8OHLBhjF",
        "outputId": "8909655f-d733-4dad-c7ab-fc627e846089",
        "colab": {
          "base_uri": "https://localhost:8080/"
        }
      },
      "source": [
        "(1>2) or (2<3)"
      ],
      "id": "Hf3e8OHLBhjF",
      "execution_count": 39,
      "outputs": [
        {
          "output_type": "execute_result",
          "data": {
            "text/plain": [
              "True"
            ]
          },
          "metadata": {},
          "execution_count": 39
        }
      ]
    },
    {
      "cell_type": "code",
      "metadata": {
        "id": "TyRXlk6iBhl7",
        "outputId": "a08c7ae3-3e8f-440d-d794-647267b619f7",
        "colab": {
          "base_uri": "https://localhost:8080/"
        }
      },
      "source": [
        "(1>2) or (2>3)"
      ],
      "id": "TyRXlk6iBhl7",
      "execution_count": 40,
      "outputs": [
        {
          "output_type": "execute_result",
          "data": {
            "text/plain": [
              "False"
            ]
          },
          "metadata": {},
          "execution_count": 40
        }
      ]
    },
    {
      "cell_type": "code",
      "metadata": {
        "id": "88w4h8smBgtN",
        "outputId": "837648ec-19b9-4d1e-b8e7-480bccf23ea4",
        "colab": {
          "base_uri": "https://localhost:8080/"
        }
      },
      "source": [
        "(1==1) or (2==3) or  (4==4)"
      ],
      "id": "88w4h8smBgtN",
      "execution_count": 41,
      "outputs": [
        {
          "output_type": "execute_result",
          "data": {
            "text/plain": [
              "True"
            ]
          },
          "metadata": {},
          "execution_count": 41
        }
      ]
    },
    {
      "cell_type": "code",
      "metadata": {
        "id": "74vyuP52Bgv3",
        "outputId": "9b0c1818-dfce-47c3-ade4-39a1970e46f7",
        "colab": {
          "base_uri": "https://localhost:8080/"
        }
      },
      "source": [
        "((1==1) or (2==3)) and (4==4)"
      ],
      "id": "74vyuP52Bgv3",
      "execution_count": 43,
      "outputs": [
        {
          "output_type": "execute_result",
          "data": {
            "text/plain": [
              "True"
            ]
          },
          "metadata": {},
          "execution_count": 43
        }
      ]
    },
    {
      "cell_type": "code",
      "metadata": {
        "id": "GCQiyeD3DtYj",
        "outputId": "e9f268ae-f2bd-4dbb-ec26-b08b3426566f",
        "colab": {
          "base_uri": "https://localhost:8080/"
        }
      },
      "source": [
        "print (not 1 ==1)\n",
        "print (not 3==4)"
      ],
      "id": "GCQiyeD3DtYj",
      "execution_count": 48,
      "outputs": [
        {
          "output_type": "stream",
          "name": "stdout",
          "text": [
            "False\n",
            "True\n"
          ]
        }
      ]
    },
    {
      "cell_type": "code",
      "metadata": {
        "id": "tu97wTStGj3T",
        "outputId": "b78a6195-c476-4001-e6bb-7f1d0902da0a",
        "colab": {
          "base_uri": "https://localhost:8080/"
        }
      },
      "source": [
        "(5 !=4)"
      ],
      "id": "tu97wTStGj3T",
      "execution_count": 49,
      "outputs": [
        {
          "output_type": "execute_result",
          "data": {
            "text/plain": [
              "True"
            ]
          },
          "metadata": {},
          "execution_count": 49
        }
      ]
    },
    {
      "cell_type": "markdown",
      "metadata": {
        "id": "Mz7v_sPAHGYS"
      },
      "source": [
        "### If, elif, else statements"
      ],
      "id": "Mz7v_sPAHGYS"
    },
    {
      "cell_type": "code",
      "metadata": {
        "id": "60A38TCiGjbP",
        "outputId": "ad286592-9683-496f-e946-424bb0aa194b",
        "colab": {
          "base_uri": "https://localhost:8080/"
        }
      },
      "source": [
        "if (1 < 2):\n",
        "  print('yeah!')"
      ],
      "id": "60A38TCiGjbP",
      "execution_count": 50,
      "outputs": [
        {
          "output_type": "stream",
          "name": "stdout",
          "text": [
            "yeah!\n"
          ]
        }
      ]
    },
    {
      "cell_type": "code",
      "metadata": {
        "id": "PbHkdh1LGjRN",
        "outputId": "348a21e6-ed0c-4416-eb8e-982f2fbabaa4",
        "colab": {
          "base_uri": "https://localhost:8080/"
        }
      },
      "source": [
        "if (1>2):\n",
        "  print('yeah!')\n",
        "  print('world')\n",
        "print ('hello')\n"
      ],
      "id": "PbHkdh1LGjRN",
      "execution_count": 54,
      "outputs": [
        {
          "output_type": "stream",
          "name": "stdout",
          "text": [
            "hello\n"
          ]
        }
      ]
    },
    {
      "cell_type": "code",
      "metadata": {
        "id": "1iSoR8YGGjK4",
        "outputId": "581b4a28-107e-411d-fe66-a417003f4a7a",
        "colab": {
          "base_uri": "https://localhost:8080/"
        }
      },
      "source": [
        "if 1<2:\n",
        "  print('first')\n",
        "else:\n",
        "  print('last')"
      ],
      "id": "1iSoR8YGGjK4",
      "execution_count": 55,
      "outputs": [
        {
          "output_type": "stream",
          "name": "stdout",
          "text": [
            "first\n"
          ]
        }
      ]
    },
    {
      "cell_type": "code",
      "metadata": {
        "id": "KmHmQ3GNGjFv",
        "outputId": "430e3b1a-d74e-43f3-ecd7-2b87625f6887",
        "colab": {
          "base_uri": "https://localhost:8080/"
        }
      },
      "source": [
        "if 1>2:\n",
        "  print('first')\n",
        "else:\n",
        "  print('last')"
      ],
      "id": "KmHmQ3GNGjFv",
      "execution_count": 56,
      "outputs": [
        {
          "output_type": "stream",
          "name": "stdout",
          "text": [
            "last\n"
          ]
        }
      ]
    },
    {
      "cell_type": "code",
      "metadata": {
        "id": "2FZ2M-JeGjC2",
        "outputId": "14c70a73-1fb6-4f2f-ce21-a11f61a25bee",
        "colab": {
          "base_uri": "https://localhost:8080/"
        }
      },
      "source": [
        "if 1==2:\n",
        "  print('first')\n",
        "elif 3==3:\n",
        "  print('middle')\n",
        "else:\n",
        "  print('last')"
      ],
      "id": "2FZ2M-JeGjC2",
      "execution_count": 58,
      "outputs": [
        {
          "output_type": "stream",
          "name": "stdout",
          "text": [
            "middle\n"
          ]
        }
      ]
    },
    {
      "cell_type": "code",
      "metadata": {
        "id": "7RiXMw_4Gi8w",
        "outputId": "f27fb9de-85ea-4b4c-dd82-3fa426572c25",
        "colab": {
          "base_uri": "https://localhost:8080/"
        }
      },
      "source": [
        "if 1==1:\n",
        "  print('first')\n",
        "elif 3==2:\n",
        "  print('middle')\n",
        "else:\n",
        "  print('last')"
      ],
      "id": "7RiXMw_4Gi8w",
      "execution_count": 60,
      "outputs": [
        {
          "output_type": "stream",
          "name": "stdout",
          "text": [
            "first\n"
          ]
        }
      ]
    },
    {
      "cell_type": "code",
      "metadata": {
        "id": "MXj_EOEAGi3P",
        "outputId": "9176776d-d098-4c66-8833-1d9c80449338",
        "colab": {
          "base_uri": "https://localhost:8080/"
        }
      },
      "source": [
        "if 1==2:\n",
        "  print('first')\n",
        "elif 3==2:\n",
        "  print('middle')\n",
        "else:\n",
        "  print('last')"
      ],
      "id": "MXj_EOEAGi3P",
      "execution_count": 61,
      "outputs": [
        {
          "output_type": "stream",
          "name": "stdout",
          "text": [
            "last\n"
          ]
        }
      ]
    },
    {
      "cell_type": "code",
      "metadata": {
        "id": "ocT_frjjGixU",
        "outputId": "36a78757-87fc-4f07-f949-5368ef2d817b",
        "colab": {
          "base_uri": "https://localhost:8080/"
        }
      },
      "source": [
        "#write a program that has a variable called temperatured and prints \"It's nice weather\" if \n",
        "#temperature is between 15 to 24 degrees.\n",
        "\n",
        "temperature = 24\n",
        "\n",
        "if (temperature >= 15) and (temperature<=24):\n",
        "  print(\"It's a nice weather\")\n",
        "\n"
      ],
      "id": "ocT_frjjGixU",
      "execution_count": 69,
      "outputs": [
        {
          "output_type": "stream",
          "name": "stdout",
          "text": [
            "It's a nice weather\n"
          ]
        }
      ]
    },
    {
      "cell_type": "markdown",
      "metadata": {
        "id": "WXehde-qOG8X"
      },
      "source": [
        "### For loops"
      ],
      "id": "WXehde-qOG8X"
    },
    {
      "cell_type": "markdown",
      "metadata": {
        "id": "sdeMnMpVOGyx"
      },
      "source": [
        ""
      ],
      "id": "sdeMnMpVOGyx"
    },
    {
      "cell_type": "code",
      "metadata": {
        "id": "N9bUYG5XGikH"
      },
      "source": [
        "seq = [1,2,3,4,5]"
      ],
      "id": "N9bUYG5XGikH",
      "execution_count": 81,
      "outputs": []
    },
    {
      "cell_type": "code",
      "metadata": {
        "id": "HKnMLy7nDtfN",
        "outputId": "92bfd223-589d-4bf2-a584-003b3f05354e",
        "colab": {
          "base_uri": "https://localhost:8080/"
        }
      },
      "source": [
        "for i in seq:\n",
        "  print(i)"
      ],
      "id": "HKnMLy7nDtfN",
      "execution_count": 82,
      "outputs": [
        {
          "output_type": "stream",
          "name": "stdout",
          "text": [
            "1\n",
            "2\n",
            "3\n",
            "4\n",
            "5\n"
          ]
        }
      ]
    },
    {
      "cell_type": "code",
      "metadata": {
        "id": "XMScrHfBDthf",
        "outputId": "e9bbd191-8d73-41ce-fa4e-b54945e53a1c",
        "colab": {
          "base_uri": "https://localhost:8080/"
        }
      },
      "source": [
        "for i in seq:\n",
        "  print(\"Hello world!\")"
      ],
      "id": "XMScrHfBDthf",
      "execution_count": 83,
      "outputs": [
        {
          "output_type": "stream",
          "name": "stdout",
          "text": [
            "Hello world!\n",
            "Hello world!\n",
            "Hello world!\n",
            "Hello world!\n",
            "Hello world!\n"
          ]
        }
      ]
    },
    {
      "cell_type": "code",
      "metadata": {
        "id": "c2Vni-YjDtm5",
        "outputId": "1d2b7cd3-89d0-4f54-f9d1-5f06d8a9e644",
        "colab": {
          "base_uri": "https://localhost:8080/"
        }
      },
      "source": [
        "for j in seq:\n",
        "  print(j+j)"
      ],
      "id": "c2Vni-YjDtm5",
      "execution_count": 86,
      "outputs": [
        {
          "output_type": "stream",
          "name": "stdout",
          "text": [
            "2\n",
            "4\n",
            "6\n",
            "8\n",
            "10\n"
          ]
        }
      ]
    },
    {
      "cell_type": "code",
      "metadata": {
        "id": "fcWqDAjmDtqI",
        "outputId": "84fc991d-66d0-4f03-ee64-b0e6d830126d",
        "colab": {
          "base_uri": "https://localhost:8080/"
        }
      },
      "source": [
        "#nested loops\n",
        "for i in seq: # outer loop\n",
        "  print('outer loop')\n",
        "  for j in seq: #inner loop\n",
        "    print(\"i={}, seq_index = {}, -- j ={},seq_index={}\".format(i,seq.index(i), j, seq.index(j)))"
      ],
      "id": "fcWqDAjmDtqI",
      "execution_count": 90,
      "outputs": [
        {
          "output_type": "stream",
          "name": "stdout",
          "text": [
            "outer loop\n",
            "i=1, seq_index = 0, -- j =1,seq_index=0\n",
            "i=1, seq_index = 0, -- j =2,seq_index=1\n",
            "i=1, seq_index = 0, -- j =3,seq_index=2\n",
            "i=1, seq_index = 0, -- j =4,seq_index=3\n",
            "i=1, seq_index = 0, -- j =5,seq_index=4\n",
            "outer loop\n",
            "i=2, seq_index = 1, -- j =1,seq_index=0\n",
            "i=2, seq_index = 1, -- j =2,seq_index=1\n",
            "i=2, seq_index = 1, -- j =3,seq_index=2\n",
            "i=2, seq_index = 1, -- j =4,seq_index=3\n",
            "i=2, seq_index = 1, -- j =5,seq_index=4\n",
            "outer loop\n",
            "i=3, seq_index = 2, -- j =1,seq_index=0\n",
            "i=3, seq_index = 2, -- j =2,seq_index=1\n",
            "i=3, seq_index = 2, -- j =3,seq_index=2\n",
            "i=3, seq_index = 2, -- j =4,seq_index=3\n",
            "i=3, seq_index = 2, -- j =5,seq_index=4\n",
            "outer loop\n",
            "i=4, seq_index = 3, -- j =1,seq_index=0\n",
            "i=4, seq_index = 3, -- j =2,seq_index=1\n",
            "i=4, seq_index = 3, -- j =3,seq_index=2\n",
            "i=4, seq_index = 3, -- j =4,seq_index=3\n",
            "i=4, seq_index = 3, -- j =5,seq_index=4\n",
            "outer loop\n",
            "i=5, seq_index = 4, -- j =1,seq_index=0\n",
            "i=5, seq_index = 4, -- j =2,seq_index=1\n",
            "i=5, seq_index = 4, -- j =3,seq_index=2\n",
            "i=5, seq_index = 4, -- j =4,seq_index=3\n",
            "i=5, seq_index = 4, -- j =5,seq_index=4\n"
          ]
        }
      ]
    },
    {
      "cell_type": "code",
      "metadata": {
        "id": "TDYBlSIEBgys",
        "outputId": "88e059ac-5633-4679-b277-ff4da9859bb4",
        "colab": {
          "base_uri": "https://localhost:8080/"
        }
      },
      "source": [
        "###print each item of the following list: ['Temperature', 'Wind_speed', 'Humidity', 'Cloudy']\n",
        "\n",
        "seq=['Temperature','Wind_speed', 'Humidity', 'Cloudy']\n",
        "for i in seq:\n",
        "  print(i)"
      ],
      "id": "TDYBlSIEBgys",
      "execution_count": 91,
      "outputs": [
        {
          "output_type": "stream",
          "name": "stdout",
          "text": [
            "Temperature\n",
            "Wind_speed\n",
            "Humidity\n",
            "Cloudy\n"
          ]
        }
      ]
    },
    {
      "cell_type": "code",
      "metadata": {
        "id": "D87S-apQBg1j",
        "outputId": "4c814341-d9d3-4103-ae91-2e33b1c9690f",
        "colab": {
          "base_uri": "https://localhost:8080/"
        }
      },
      "source": [
        "#break statement.\n",
        "\n",
        "fruits = ['apple', 'banana', 'cherry']\n",
        "for i in fruits:\n",
        "  print(i)\n",
        "  if i == 'banana':\n",
        "    break"
      ],
      "id": "D87S-apQBg1j",
      "execution_count": 93,
      "outputs": [
        {
          "output_type": "stream",
          "name": "stdout",
          "text": [
            "apple\n",
            "banana\n"
          ]
        }
      ]
    },
    {
      "cell_type": "code",
      "metadata": {
        "id": "wsnU8dWQedOo"
      },
      "source": [
        ""
      ],
      "id": "wsnU8dWQedOo",
      "execution_count": null,
      "outputs": []
    },
    {
      "cell_type": "code",
      "metadata": {
        "id": "JyMxgFUUedkG"
      },
      "source": [
        ""
      ],
      "id": "JyMxgFUUedkG",
      "execution_count": null,
      "outputs": []
    },
    {
      "cell_type": "code",
      "metadata": {
        "id": "kCvhvTeA6oPX",
        "outputId": "a46aeb0b-92e6-45cb-acdf-c8e030842e85",
        "colab": {
          "base_uri": "https://localhost:8080/"
        }
      },
      "source": [
        "for i in fruits:\n",
        "  if i =='banana':\n",
        "    break\n",
        "  print(i)"
      ],
      "id": "kCvhvTeA6oPX",
      "execution_count": 94,
      "outputs": [
        {
          "output_type": "stream",
          "name": "stdout",
          "text": [
            "apple\n"
          ]
        }
      ]
    },
    {
      "cell_type": "code",
      "metadata": {
        "id": "9g0Alw0yYWbY"
      },
      "source": [
        "#continue\n",
        "\n",
        "for i in fruits:\n",
        "  if i == 'banana':\n",
        "    continue\n",
        "    print(i)"
      ],
      "id": "9g0Alw0yYWbY",
      "execution_count": 95,
      "outputs": []
    },
    {
      "cell_type": "code",
      "metadata": {
        "id": "KjkpA7DTYWet",
        "outputId": "43181640-6b7e-4bd5-8b69-946468da99ca",
        "colab": {
          "base_uri": "https://localhost:8080/"
        }
      },
      "source": [
        "#print each adjective from every fruit:\n",
        "\n",
        "adj = ['red', 'big','tasty']\n",
        "fruits = ['watermelon', 'blueberry', 'banana']\n",
        "\n",
        "for i in adj:\n",
        "  print(i)\n",
        "  for j in fruits:\n",
        "    print(j)"
      ],
      "id": "KjkpA7DTYWet",
      "execution_count": 97,
      "outputs": [
        {
          "output_type": "stream",
          "name": "stdout",
          "text": [
            "red\n",
            "watermelon\n",
            "blueberry\n",
            "banana\n",
            "big\n",
            "watermelon\n",
            "blueberry\n",
            "banana\n",
            "tasty\n",
            "watermelon\n",
            "blueberry\n",
            "banana\n"
          ]
        }
      ]
    },
    {
      "cell_type": "code",
      "metadata": {
        "id": "8LVx2hZnYWi3"
      },
      "source": [
        ""
      ],
      "id": "8LVx2hZnYWi3",
      "execution_count": null,
      "outputs": []
    },
    {
      "cell_type": "code",
      "metadata": {
        "id": "z7sRfyU9YWmW"
      },
      "source": [
        ""
      ],
      "id": "z7sRfyU9YWmW",
      "execution_count": null,
      "outputs": []
    },
    {
      "cell_type": "code",
      "metadata": {
        "id": "6KLMfBTeYWp4"
      },
      "source": [
        ""
      ],
      "id": "6KLMfBTeYWp4",
      "execution_count": null,
      "outputs": []
    },
    {
      "cell_type": "code",
      "metadata": {
        "id": "2u7SobHwYWsm"
      },
      "source": [
        ""
      ],
      "id": "2u7SobHwYWsm",
      "execution_count": null,
      "outputs": []
    },
    {
      "cell_type": "markdown",
      "metadata": {
        "id": "NqndULLa6sRX"
      },
      "source": [
        ""
      ],
      "id": "NqndULLa6sRX"
    }
  ]
}